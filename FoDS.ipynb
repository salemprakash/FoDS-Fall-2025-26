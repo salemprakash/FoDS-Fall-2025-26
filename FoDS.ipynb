{
  "nbformat": 4,
  "nbformat_minor": 0,
  "metadata": {
    "colab": {
      "provenance": [],
      "collapsed_sections": [
        "BmOIPiY02c4q",
        "AAjzy6Hh6y61"
      ],
      "authorship_tag": "ABX9TyOoxdY/Y651UMpidC4XOIdT",
      "include_colab_link": true
    },
    "kernelspec": {
      "name": "python3",
      "display_name": "Python 3"
    },
    "language_info": {
      "name": "python"
    }
  },
  "cells": [
    {
      "cell_type": "markdown",
      "metadata": {
        "id": "view-in-github",
        "colab_type": "text"
      },
      "source": [
        "<a href=\"https://colab.research.google.com/github/salemprakash/FoDS-Fall-2025-26/blob/main/FoDS.ipynb\" target=\"_parent\"><img src=\"https://colab.research.google.com/assets/colab-badge.svg\" alt=\"Open In Colab\"/></a>"
      ]
    },
    {
      "cell_type": "code",
      "execution_count": 1,
      "metadata": {
        "collapsed": true,
        "id": "FDkAJS6klT5I"
      },
      "outputs": [],
      "source": [
        "#Install and Load the Extension.\n",
        "!pip -q install \"ipython-sql>=0.5.0\" \"prettytable<3.10\"\n",
        "%load_ext sql"
      ]
    },
    {
      "cell_type": "code",
      "source": [
        "#Connect to a Database\n",
        "%sql sqlite:////content/mydb2.db\n",
        "%config SqlMagic.style = 'PLAIN_COLUMNS'"
      ],
      "metadata": {
        "id": "G3Ms5sGFlm-b"
      },
      "execution_count": 2,
      "outputs": []
    },
    {
      "cell_type": "code",
      "source": [
        "%%sql\n",
        "CREATE TABLE IF NOT EXISTS employees (\n",
        "  emp_id    INTEGER PRIMARY KEY,\n",
        "  name      TEXT NOT NULL,\n",
        "  dept      TEXT,\n",
        "  salary    INTEGER\n",
        ");"
      ],
      "metadata": {
        "id": "4xt8Su9Dl_3a"
      },
      "execution_count": null,
      "outputs": []
    },
    {
      "cell_type": "code",
      "source": [
        "%%sql\n",
        "INSERT INTO employees VALUES\n",
        "(1,'Alice','Data Science',90000),\n",
        "(2,'Bob','Analytics',78000),\n",
        "(3,'Carol','Engineering',105000),\n",
        "(4,'David','Analytics',82000),\n",
        "(5,'Eve','Data Science',96000);"
      ],
      "metadata": {
        "colab": {
          "base_uri": "https://localhost:8080/"
        },
        "id": "_YhBvOM8tOKT",
        "outputId": "8af7172b-36bd-49cf-d125-f527623573d5"
      },
      "execution_count": 15,
      "outputs": [
        {
          "output_type": "stream",
          "name": "stdout",
          "text": [
            " * sqlite:////content/mydb2.db\n",
            "(sqlite3.IntegrityError) UNIQUE constraint failed: employees.emp_id\n",
            "[SQL: INSERT INTO employees VALUES\n",
            "(1,'Alice','Data Science',90000),\n",
            "(2,'Bob','Analytics',78000),\n",
            "(3,'Carol','Engineering',105000),\n",
            "(4,'David','Analytics',82000),\n",
            "(5,'Eve','Data Science',96000);]\n",
            "(Background on this error at: https://sqlalche.me/e/20/gkpj)\n"
          ]
        }
      ]
    },
    {
      "cell_type": "code",
      "source": [
        "%%sql\n",
        "SELECT * FROM employees ORDER BY emp_id;"
      ],
      "metadata": {
        "colab": {
          "base_uri": "https://localhost:8080/",
          "height": 184
        },
        "id": "rmQTZoqutQGe",
        "outputId": "9dd926ce-8223-4a66-ece0-824353814bb5"
      },
      "execution_count": 16,
      "outputs": [
        {
          "output_type": "stream",
          "name": "stdout",
          "text": [
            " * sqlite:////content/mydb2.db\n",
            "Done.\n"
          ]
        },
        {
          "output_type": "execute_result",
          "data": {
            "text/plain": [
              "[(1, 'Alice', 'Data Science', 90000),\n",
              " (2, 'Bob', 'Analytics', 78000),\n",
              " (3, 'Carol', 'Engineering', 105000),\n",
              " (4, 'David', 'Analytics', 82000),\n",
              " (5, 'Eve', 'Data Science', 96000)]"
            ],
            "text/html": [
              "<table>\n",
              "    <thead>\n",
              "        <tr>\n",
              "            <th>emp_id</th>\n",
              "            <th>name</th>\n",
              "            <th>dept</th>\n",
              "            <th>salary</th>\n",
              "        </tr>\n",
              "    </thead>\n",
              "    <tbody>\n",
              "        <tr>\n",
              "            <td>1</td>\n",
              "            <td>Alice</td>\n",
              "            <td>Data Science</td>\n",
              "            <td>90000</td>\n",
              "        </tr>\n",
              "        <tr>\n",
              "            <td>2</td>\n",
              "            <td>Bob</td>\n",
              "            <td>Analytics</td>\n",
              "            <td>78000</td>\n",
              "        </tr>\n",
              "        <tr>\n",
              "            <td>3</td>\n",
              "            <td>Carol</td>\n",
              "            <td>Engineering</td>\n",
              "            <td>105000</td>\n",
              "        </tr>\n",
              "        <tr>\n",
              "            <td>4</td>\n",
              "            <td>David</td>\n",
              "            <td>Analytics</td>\n",
              "            <td>82000</td>\n",
              "        </tr>\n",
              "        <tr>\n",
              "            <td>5</td>\n",
              "            <td>Eve</td>\n",
              "            <td>Data Science</td>\n",
              "            <td>96000</td>\n",
              "        </tr>\n",
              "    </tbody>\n",
              "</table>"
            ]
          },
          "metadata": {},
          "execution_count": 16
        }
      ]
    },
    {
      "cell_type": "markdown",
      "source": [
        "#Basic Statistics with SQL"
      ],
      "metadata": {
        "id": "BmOIPiY02c4q"
      }
    },
    {
      "cell_type": "code",
      "source": [
        "#Create the table\n",
        "%%sql\n",
        "CREATE TABLE employees (\n",
        "    salary INT,\n",
        "    name VARCHAR(50)\n",
        ");\n",
        "\n",
        "\n"
      ],
      "metadata": {
        "id": "csf0PP2f2f6y"
      },
      "execution_count": null,
      "outputs": []
    },
    {
      "cell_type": "code",
      "source": [
        "#Insert data into the table\n",
        "%%sql\n",
        "INSERT INTO employees (salary, name) VALUES (1000, 'Amit');\n",
        "INSERT INTO employees (salary, name) VALUES (2000, 'Nisha');\n",
        "INSERT INTO employees (salary, name) VALUES (3000, 'Yogesh');\n",
        "INSERT INTO employees (salary, name) VALUES (4000, 'Puja');\n",
        "INSERT INTO employees (salary, name) VALUES (9000, 'Ram');\n",
        "INSERT INTO employees (salary, name) VALUES (7000, 'Husain');\n",
        "INSERT INTO employees (salary, name) VALUES (8000, 'Risha');\n",
        "INSERT INTO employees (salary, name) VALUES (5000, 'Anil');\n",
        "INSERT INTO employees (salary, name) VALUES (10000, 'Kumar');\n",
        "INSERT INTO employees (salary, name) VALUES (6000, 'Shiv');\n",
        "\n"
      ],
      "metadata": {
        "id": "4yxGwbxW2gpE"
      },
      "execution_count": null,
      "outputs": []
    },
    {
      "cell_type": "code",
      "source": [
        "%%sql\n",
        "Select * from employees;\n"
      ],
      "metadata": {
        "id": "B1jG6sPJ2g3P"
      },
      "execution_count": null,
      "outputs": []
    },
    {
      "cell_type": "code",
      "source": [
        "#Mean\n",
        "%%sql\n",
        "SELECT Avg(salary) as MEAN FROM   employees;"
      ],
      "metadata": {
        "id": "YchMbZ5N2hBr"
      },
      "execution_count": null,
      "outputs": []
    },
    {
      "cell_type": "code",
      "source": [
        "#Mode\n",
        "%%sql\n",
        "SELECT salary\n",
        "FROM employees\n",
        "GROUP BY salary\n",
        "ORDER BY COUNT(*) DESC\n",
        "LIMIT 1;\n",
        "\n"
      ],
      "metadata": {
        "id": "Rm4xF9ci2hJp"
      },
      "execution_count": null,
      "outputs": []
    },
    {
      "cell_type": "code",
      "source": [
        "#Median - Suitable for SQL Lite\n",
        "%%sql\n",
        "\n",
        "WITH ordered AS (\n",
        "  SELECT\n",
        "    salary,\n",
        "    ROW_NUMBER() OVER (ORDER BY salary) AS rn,\n",
        "    COUNT(*) OVER () AS cnt\n",
        "  FROM employees\n",
        "  WHERE salary IS NOT NULL\n",
        ")\n",
        "SELECT AVG(salary) AS median_salary\n",
        "FROM ordered\n",
        "WHERE rn IN ((cnt + 1)/2, (cnt + 2)/2);"
      ],
      "metadata": {
        "id": "x5ZoomFe3jws"
      },
      "execution_count": null,
      "outputs": []
    },
    {
      "cell_type": "code",
      "source": [
        "#Median Suitable only in SQL SERVER\n",
        "'''  #This syntax will only work in MS SQL SERVER not in SQL Lite\n",
        "%%sql\n",
        "SET @rindex := -1;\n",
        "SELECT AVG(m.sal) FROM\n",
        "\t(SELECT @rindex:=@rindex + 1 AS rowindex, employees.salary AS sal\n",
        "\tFROM employees\n",
        "\tORDER BY employees.salary) AS m\n",
        "WHERE\n",
        "m.rowindex IN (FLOOR(@rindex / 2) , CEIL(@rindex / 2));\n",
        "'''"
      ],
      "metadata": {
        "id": "RcT3Dy1U6n1o"
      },
      "execution_count": null,
      "outputs": []
    },
    {
      "cell_type": "markdown",
      "source": [
        "#Data Munging with SQL"
      ],
      "metadata": {
        "id": "AAjzy6Hh6y61"
      }
    },
    {
      "cell_type": "code",
      "source": [
        "#UPPER\n",
        "%%sql\n",
        "SELECT UPPER(name) AS name FROM employees;"
      ],
      "metadata": {
        "id": "W3jXHUDH6z_Z"
      },
      "execution_count": null,
      "outputs": []
    },
    {
      "cell_type": "code",
      "source": [
        "#LOWER\n",
        "%%sql\n",
        "SELECT LOWER(name) AS name FROM employees;"
      ],
      "metadata": {
        "id": "JJwrxkfz63KY"
      },
      "execution_count": null,
      "outputs": []
    },
    {
      "cell_type": "code",
      "source": [
        "#TRIM\n",
        "%%sql\n",
        "SELECT TRIM(name) AS name FROM employees;"
      ],
      "metadata": {
        "id": "L-r220YW63Pw"
      },
      "execution_count": null,
      "outputs": []
    },
    {
      "cell_type": "code",
      "source": [
        "#LTRIM\n",
        "%%sql\n",
        "SELECT LTRIM(name) AS name FROM employees;"
      ],
      "metadata": {
        "id": "a5AF_OIL63Xl"
      },
      "execution_count": null,
      "outputs": []
    },
    {
      "cell_type": "code",
      "source": [
        "#RTRIM\n",
        "%%sql\n",
        "SELECT RTRIM(name) AS name FROM employees;"
      ],
      "metadata": {
        "id": "aDRpxRfk63c7"
      },
      "execution_count": null,
      "outputs": []
    },
    {
      "cell_type": "code",
      "source": [
        "#RIGHT - 2 charcter from right\n",
        "%%sql\n",
        "SELECT SUBSTR(name, -2) AS name FROM employees;"
      ],
      "metadata": {
        "id": "MUQGLVCK63i-"
      },
      "execution_count": null,
      "outputs": []
    },
    {
      "cell_type": "code",
      "source": [
        "#LEFT - For first 2 character from left name, starting position, ending position\n",
        "%%sql\n",
        "SELECT SUBSTR(name, 1, 2) AS name FROM employees;"
      ],
      "metadata": {
        "id": "F2Pw_zcf63pz"
      },
      "execution_count": null,
      "outputs": []
    },
    {
      "cell_type": "code",
      "source": [
        "#REPLACE\n",
        "%%sql\n",
        "SELECT REPLACE(name, 'a', 'A') AS name FROM employees;"
      ],
      "metadata": {
        "id": "VYNfof_e635H"
      },
      "execution_count": null,
      "outputs": []
    },
    {
      "cell_type": "markdown",
      "source": [
        "#Preparing Data for Analytics Tool"
      ],
      "metadata": {
        "id": "5AaTcjrf9INf"
      }
    },
    {
      "cell_type": "code",
      "source": [
        "%%sql\n",
        "--SALES TABLE\n",
        "CREATE TABLE sales (\n",
        "    sale_no INT PRIMARY KEY,\n",
        "    product_id INT,\n",
        "    quantity INT,\n",
        "    price INT,\n",
        "    customer_name VARCHAR(50)\n",
        ");\n"
      ],
      "metadata": {
        "colab": {
          "base_uri": "https://localhost:8080/"
        },
        "id": "y_2dPRAmumyK",
        "outputId": "747ec844-9068-43c0-fd56-23a3d8bd9ac7"
      },
      "execution_count": 10,
      "outputs": [
        {
          "output_type": "stream",
          "name": "stdout",
          "text": [
            " * sqlite:////content/mydb2.db\n",
            "Done.\n"
          ]
        },
        {
          "output_type": "execute_result",
          "data": {
            "text/plain": [
              "[]"
            ]
          },
          "metadata": {},
          "execution_count": 10
        }
      ]
    },
    {
      "cell_type": "code",
      "source": [
        "#INSERT RECORD INTO SALES TABLE\n",
        "%%sql\n",
        "INSERT INTO sales (sale_no, product_id, quantity, price, customer_name) VALUES\n",
        "(5001, 3, 4, 21000, 'John'),\n",
        "(5002, 11, NULL, 17000, 'Anna'),\n",
        "(5003, 94, 10, 105000, 'Tom'),\n",
        "(5004, 86, 8, 27000, 'Nora'),\n",
        "(5005, 88, 18, 8000, 'Tom');\n",
        "\n"
      ],
      "metadata": {
        "colab": {
          "base_uri": "https://localhost:8080/"
        },
        "id": "cXHW67EWw29i",
        "outputId": "1cbd4fa4-20c2-426c-b7d5-92543247684c"
      },
      "execution_count": 11,
      "outputs": [
        {
          "output_type": "stream",
          "name": "stdout",
          "text": [
            " * sqlite:////content/mydb2.db\n",
            "5 rows affected.\n"
          ]
        },
        {
          "output_type": "execute_result",
          "data": {
            "text/plain": [
              "[]"
            ]
          },
          "metadata": {},
          "execution_count": 11
        }
      ]
    },
    {
      "cell_type": "code",
      "source": [
        "%%sql\n",
        "SELECT * FROM SALES;"
      ],
      "metadata": {
        "colab": {
          "base_uri": "https://localhost:8080/",
          "height": 184
        },
        "id": "PLcyM_u8zd_K",
        "outputId": "9644eb77-68d2-4dd1-dcd7-42d8f81591b6"
      },
      "execution_count": 12,
      "outputs": [
        {
          "output_type": "stream",
          "name": "stdout",
          "text": [
            " * sqlite:////content/mydb2.db\n",
            "Done.\n"
          ]
        },
        {
          "output_type": "execute_result",
          "data": {
            "text/plain": [
              "[(5001, 3, 4, 21000, 'John'),\n",
              " (5002, 11, None, 17000, 'Anna'),\n",
              " (5003, 94, 10, 105000, 'Tom'),\n",
              " (5004, 86, 8, 27000, 'Nora'),\n",
              " (5005, 88, 18, 8000, 'Tom')]"
            ],
            "text/html": [
              "<table>\n",
              "    <thead>\n",
              "        <tr>\n",
              "            <th>sale_no</th>\n",
              "            <th>product_id</th>\n",
              "            <th>quantity</th>\n",
              "            <th>price</th>\n",
              "            <th>customer_name</th>\n",
              "        </tr>\n",
              "    </thead>\n",
              "    <tbody>\n",
              "        <tr>\n",
              "            <td>5001</td>\n",
              "            <td>3</td>\n",
              "            <td>4</td>\n",
              "            <td>21000</td>\n",
              "            <td>John</td>\n",
              "        </tr>\n",
              "        <tr>\n",
              "            <td>5002</td>\n",
              "            <td>11</td>\n",
              "            <td>None</td>\n",
              "            <td>17000</td>\n",
              "            <td>Anna</td>\n",
              "        </tr>\n",
              "        <tr>\n",
              "            <td>5003</td>\n",
              "            <td>94</td>\n",
              "            <td>10</td>\n",
              "            <td>105000</td>\n",
              "            <td>Tom</td>\n",
              "        </tr>\n",
              "        <tr>\n",
              "            <td>5004</td>\n",
              "            <td>86</td>\n",
              "            <td>8</td>\n",
              "            <td>27000</td>\n",
              "            <td>Nora</td>\n",
              "        </tr>\n",
              "        <tr>\n",
              "            <td>5005</td>\n",
              "            <td>88</td>\n",
              "            <td>18</td>\n",
              "            <td>8000</td>\n",
              "            <td>Tom</td>\n",
              "        </tr>\n",
              "    </tbody>\n",
              "</table>"
            ]
          },
          "metadata": {},
          "execution_count": 12
        }
      ]
    },
    {
      "cell_type": "code",
      "source": [
        "#CASE\n",
        "%%sql\n",
        "SELECT *,\n",
        "\tCASE\t WHEN quantity >= 10 THEN 'More'\n",
        "\t\t\tWHEN quantity >= 6 THEN 'Avg'\n",
        "\t\t\tELSE 'Less'\n",
        "\tEND AS summary\n",
        "FROM sales;\n"
      ],
      "metadata": {
        "colab": {
          "base_uri": "https://localhost:8080/",
          "height": 184
        },
        "id": "8AOPcjXGxPt5",
        "outputId": "72b69b84-bfc5-4858-e809-ae37dd1c2b0c"
      },
      "execution_count": 13,
      "outputs": [
        {
          "output_type": "stream",
          "name": "stdout",
          "text": [
            " * sqlite:////content/mydb2.db\n",
            "Done.\n"
          ]
        },
        {
          "output_type": "execute_result",
          "data": {
            "text/plain": [
              "[(5001, 3, 4, 21000, 'John', 'Less'),\n",
              " (5002, 11, None, 17000, 'Anna', 'Less'),\n",
              " (5003, 94, 10, 105000, 'Tom', 'More'),\n",
              " (5004, 86, 8, 27000, 'Nora', 'Avg'),\n",
              " (5005, 88, 18, 8000, 'Tom', 'More')]"
            ],
            "text/html": [
              "<table>\n",
              "    <thead>\n",
              "        <tr>\n",
              "            <th>sale_no</th>\n",
              "            <th>product_id</th>\n",
              "            <th>quantity</th>\n",
              "            <th>price</th>\n",
              "            <th>customer_name</th>\n",
              "            <th>summary</th>\n",
              "        </tr>\n",
              "    </thead>\n",
              "    <tbody>\n",
              "        <tr>\n",
              "            <td>5001</td>\n",
              "            <td>3</td>\n",
              "            <td>4</td>\n",
              "            <td>21000</td>\n",
              "            <td>John</td>\n",
              "            <td>Less</td>\n",
              "        </tr>\n",
              "        <tr>\n",
              "            <td>5002</td>\n",
              "            <td>11</td>\n",
              "            <td>None</td>\n",
              "            <td>17000</td>\n",
              "            <td>Anna</td>\n",
              "            <td>Less</td>\n",
              "        </tr>\n",
              "        <tr>\n",
              "            <td>5003</td>\n",
              "            <td>94</td>\n",
              "            <td>10</td>\n",
              "            <td>105000</td>\n",
              "            <td>Tom</td>\n",
              "            <td>More</td>\n",
              "        </tr>\n",
              "        <tr>\n",
              "            <td>5004</td>\n",
              "            <td>86</td>\n",
              "            <td>8</td>\n",
              "            <td>27000</td>\n",
              "            <td>Nora</td>\n",
              "            <td>Avg</td>\n",
              "        </tr>\n",
              "        <tr>\n",
              "            <td>5005</td>\n",
              "            <td>88</td>\n",
              "            <td>18</td>\n",
              "            <td>8000</td>\n",
              "            <td>Tom</td>\n",
              "            <td>More</td>\n",
              "        </tr>\n",
              "    </tbody>\n",
              "</table>"
            ]
          },
          "metadata": {},
          "execution_count": 13
        }
      ]
    },
    {
      "cell_type": "code",
      "source": [
        "#COALESCE\n",
        "%%sql\n",
        "SELECT customer_name, product_id,\n",
        "COALESCE(quantity, -1) AS quantity\n",
        "FROM sales;\n",
        "\n",
        "\n"
      ],
      "metadata": {
        "colab": {
          "base_uri": "https://localhost:8080/",
          "height": 184
        },
        "id": "I_1HQx3WycXJ",
        "outputId": "e146d543-a871-4907-b510-333ca63f28d3"
      },
      "execution_count": 14,
      "outputs": [
        {
          "output_type": "stream",
          "name": "stdout",
          "text": [
            " * sqlite:////content/mydb2.db\n",
            "Done.\n"
          ]
        },
        {
          "output_type": "execute_result",
          "data": {
            "text/plain": [
              "[('John', 3, 4),\n",
              " ('Anna', 11, -1),\n",
              " ('Tom', 94, 10),\n",
              " ('Nora', 86, 8),\n",
              " ('Tom', 88, 18)]"
            ],
            "text/html": [
              "<table>\n",
              "    <thead>\n",
              "        <tr>\n",
              "            <th>customer_name</th>\n",
              "            <th>product_id</th>\n",
              "            <th>quantity</th>\n",
              "        </tr>\n",
              "    </thead>\n",
              "    <tbody>\n",
              "        <tr>\n",
              "            <td>John</td>\n",
              "            <td>3</td>\n",
              "            <td>4</td>\n",
              "        </tr>\n",
              "        <tr>\n",
              "            <td>Anna</td>\n",
              "            <td>11</td>\n",
              "            <td>-1</td>\n",
              "        </tr>\n",
              "        <tr>\n",
              "            <td>Tom</td>\n",
              "            <td>94</td>\n",
              "            <td>10</td>\n",
              "        </tr>\n",
              "        <tr>\n",
              "            <td>Nora</td>\n",
              "            <td>86</td>\n",
              "            <td>8</td>\n",
              "        </tr>\n",
              "        <tr>\n",
              "            <td>Tom</td>\n",
              "            <td>88</td>\n",
              "            <td>18</td>\n",
              "        </tr>\n",
              "    </tbody>\n",
              "</table>"
            ]
          },
          "metadata": {},
          "execution_count": 14
        }
      ]
    },
    {
      "cell_type": "code",
      "source": [
        "#NULLIF\n",
        "%%sql\n",
        "SELECT sale_no, customer_name,\n",
        "NULLIF(product_id, 11) AS product_id\n",
        "FROM sales;\n"
      ],
      "metadata": {
        "id": "K8SPLND2yopG"
      },
      "execution_count": null,
      "outputs": []
    },
    {
      "cell_type": "code",
      "source": [
        "#LEAST\n",
        "%%sql\n",
        "SELECT sale_no, product_id, quantity,\n",
        "MAX(10000, price) as price FROM sales;\n"
      ],
      "metadata": {
        "id": "EJ79z3mMyyGB"
      },
      "execution_count": null,
      "outputs": []
    },
    {
      "cell_type": "code",
      "source": [
        "#GREATEST\n",
        "%%sql\n",
        "\n",
        "SELECT sale_no, product_id, quantity,\n",
        "MIN(10000, price) as price\n",
        "FROM sales;"
      ],
      "metadata": {
        "colab": {
          "base_uri": "https://localhost:8080/",
          "height": 184
        },
        "id": "bxd2b2mVzByS",
        "outputId": "b0b2a2d0-e1f5-46ef-ba48-7730b20a1f6e"
      },
      "execution_count": 17,
      "outputs": [
        {
          "output_type": "stream",
          "name": "stdout",
          "text": [
            " * sqlite:////content/mydb2.db\n",
            "Done.\n"
          ]
        },
        {
          "output_type": "execute_result",
          "data": {
            "text/plain": [
              "[(5001, 3, 4, 10000),\n",
              " (5002, 11, None, 10000),\n",
              " (5003, 94, 10, 10000),\n",
              " (5004, 86, 8, 10000),\n",
              " (5005, 88, 18, 8000)]"
            ],
            "text/html": [
              "<table>\n",
              "    <thead>\n",
              "        <tr>\n",
              "            <th>sale_no</th>\n",
              "            <th>product_id</th>\n",
              "            <th>quantity</th>\n",
              "            <th>price</th>\n",
              "        </tr>\n",
              "    </thead>\n",
              "    <tbody>\n",
              "        <tr>\n",
              "            <td>5001</td>\n",
              "            <td>3</td>\n",
              "            <td>4</td>\n",
              "            <td>10000</td>\n",
              "        </tr>\n",
              "        <tr>\n",
              "            <td>5002</td>\n",
              "            <td>11</td>\n",
              "            <td>None</td>\n",
              "            <td>10000</td>\n",
              "        </tr>\n",
              "        <tr>\n",
              "            <td>5003</td>\n",
              "            <td>94</td>\n",
              "            <td>10</td>\n",
              "            <td>10000</td>\n",
              "        </tr>\n",
              "        <tr>\n",
              "            <td>5004</td>\n",
              "            <td>86</td>\n",
              "            <td>8</td>\n",
              "            <td>10000</td>\n",
              "        </tr>\n",
              "        <tr>\n",
              "            <td>5005</td>\n",
              "            <td>88</td>\n",
              "            <td>18</td>\n",
              "            <td>8000</td>\n",
              "        </tr>\n",
              "    </tbody>\n",
              "</table>"
            ]
          },
          "metadata": {},
          "execution_count": 17
        }
      ]
    }
  ]
}