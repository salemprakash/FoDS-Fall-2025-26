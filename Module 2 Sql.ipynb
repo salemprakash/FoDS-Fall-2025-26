{
  "nbformat": 4,
  "nbformat_minor": 0,
  "metadata": {
    "colab": {
      "provenance": [],
      "collapsed_sections": [
        "BmOIPiY02c4q"
      ],
      "authorship_tag": "ABX9TyNyoeCwcAxTsr9SBod6i8Ox",
      "include_colab_link": true
    },
    "kernelspec": {
      "name": "python3",
      "display_name": "Python 3"
    },
    "language_info": {
      "name": "python"
    }
  },
  "cells": [
    {
      "cell_type": "markdown",
      "metadata": {
        "id": "view-in-github",
        "colab_type": "text"
      },
      "source": [
        "<a href=\"https://colab.research.google.com/github/salemprakash/FoDS-Fall-2025-26/blob/main/Module%202%20Sql.ipynb\" target=\"_parent\"><img src=\"https://colab.research.google.com/assets/colab-badge.svg\" alt=\"Open In Colab\"/></a>"
      ]
    },
    {
      "cell_type": "code",
      "execution_count": 1,
      "metadata": {
        "collapsed": true,
        "id": "FDkAJS6klT5I",
        "outputId": "763ab0df-03b1-47c8-9d6f-fe72867b5525",
        "colab": {
          "base_uri": "https://localhost:8080/"
        }
      },
      "outputs": [
        {
          "output_type": "stream",
          "name": "stdout",
          "text": [
            "\u001b[?25l   \u001b[90m━━━━━━━━━━━━━━━━━━━━━━━━━━━━━━━━━━━━━━━━\u001b[0m \u001b[32m0.0/1.6 MB\u001b[0m \u001b[31m?\u001b[0m eta \u001b[36m-:--:--\u001b[0m\r\u001b[2K   \u001b[91m━━━━━━━━━━━━━━━━━━━━━━━━━━━━━━━━━━━━━━━\u001b[0m\u001b[91m╸\u001b[0m \u001b[32m1.6/1.6 MB\u001b[0m \u001b[31m50.3 MB/s\u001b[0m eta \u001b[36m0:00:01\u001b[0m\r\u001b[2K   \u001b[90m━━━━━━━━━━━━━━━━━━━━━━━━━━━━━━━━━━━━━━━━\u001b[0m \u001b[32m1.6/1.6 MB\u001b[0m \u001b[31m30.4 MB/s\u001b[0m eta \u001b[36m0:00:00\u001b[0m\n",
            "\u001b[?25h"
          ]
        }
      ],
      "source": [
        "#Install and Load the Extension.\n",
        "!pip -q install \"ipython-sql>=0.5.0\" \"prettytable<3.10\"\n",
        "%load_ext sql"
      ]
    },
    {
      "cell_type": "code",
      "source": [
        "#Connect to a Database\n",
        "%sql sqlite:////content/mydb2.db\n",
        "%config SqlMagic.style = 'PLAIN_COLUMNS'"
      ],
      "metadata": {
        "id": "G3Ms5sGFlm-b"
      },
      "execution_count": 2,
      "outputs": []
    },
    {
      "cell_type": "code",
      "source": [
        "%%sql\n",
        "CREATE TABLE IF NOT EXISTS employees (\n",
        "  emp_id    INTEGER PRIMARY KEY,\n",
        "  name      TEXT NOT NULL,\n",
        "  dept      TEXT,\n",
        "  salary    INTEGER\n",
        ");"
      ],
      "metadata": {
        "id": "4xt8Su9Dl_3a"
      },
      "execution_count": null,
      "outputs": []
    },
    {
      "cell_type": "code",
      "source": [
        "%%sql\n",
        "INSERT INTO employees VALUES\n",
        "(1,'Alice','Data Science',90000),\n",
        "(2,'Bob','Analytics',78000),\n",
        "(3,'Carol','Engineering',105000),\n",
        "(4,'David','Analytics',82000),\n",
        "(5,'Eve','Data Science',96000);"
      ],
      "metadata": {
        "colab": {
          "base_uri": "https://localhost:8080/"
        },
        "id": "_YhBvOM8tOKT",
        "outputId": "8af7172b-36bd-49cf-d125-f527623573d5"
      },
      "execution_count": null,
      "outputs": [
        {
          "output_type": "stream",
          "name": "stdout",
          "text": [
            " * sqlite:////content/mydb2.db\n",
            "(sqlite3.IntegrityError) UNIQUE constraint failed: employees.emp_id\n",
            "[SQL: INSERT INTO employees VALUES\n",
            "(1,'Alice','Data Science',90000),\n",
            "(2,'Bob','Analytics',78000),\n",
            "(3,'Carol','Engineering',105000),\n",
            "(4,'David','Analytics',82000),\n",
            "(5,'Eve','Data Science',96000);]\n",
            "(Background on this error at: https://sqlalche.me/e/20/gkpj)\n"
          ]
        }
      ]
    },
    {
      "cell_type": "code",
      "source": [
        "%%sql\n",
        "SELECT * FROM employees ORDER BY emp_id;"
      ],
      "metadata": {
        "colab": {
          "base_uri": "https://localhost:8080/",
          "height": 184
        },
        "id": "rmQTZoqutQGe",
        "outputId": "0ae6520e-608c-49fd-ae51-77d918c87218"
      },
      "execution_count": null,
      "outputs": [
        {
          "output_type": "stream",
          "name": "stdout",
          "text": [
            " * sqlite:////content/mydb2.db\n",
            "Done.\n"
          ]
        },
        {
          "output_type": "execute_result",
          "data": {
            "text/plain": [
              "[(1, 'Alice', 'Data Science', 90000),\n",
              " (2, 'Bob', 'Analytics', 78000),\n",
              " (3, 'Carol', 'Engineering', 105000),\n",
              " (4, 'David', 'Analytics', 82000),\n",
              " (5, 'Eve', 'Data Science', 96000)]"
            ],
            "text/html": [
              "<table>\n",
              "    <thead>\n",
              "        <tr>\n",
              "            <th>emp_id</th>\n",
              "            <th>name</th>\n",
              "            <th>dept</th>\n",
              "            <th>salary</th>\n",
              "        </tr>\n",
              "    </thead>\n",
              "    <tbody>\n",
              "        <tr>\n",
              "            <td>1</td>\n",
              "            <td>Alice</td>\n",
              "            <td>Data Science</td>\n",
              "            <td>90000</td>\n",
              "        </tr>\n",
              "        <tr>\n",
              "            <td>2</td>\n",
              "            <td>Bob</td>\n",
              "            <td>Analytics</td>\n",
              "            <td>78000</td>\n",
              "        </tr>\n",
              "        <tr>\n",
              "            <td>3</td>\n",
              "            <td>Carol</td>\n",
              "            <td>Engineering</td>\n",
              "            <td>105000</td>\n",
              "        </tr>\n",
              "        <tr>\n",
              "            <td>4</td>\n",
              "            <td>David</td>\n",
              "            <td>Analytics</td>\n",
              "            <td>82000</td>\n",
              "        </tr>\n",
              "        <tr>\n",
              "            <td>5</td>\n",
              "            <td>Eve</td>\n",
              "            <td>Data Science</td>\n",
              "            <td>96000</td>\n",
              "        </tr>\n",
              "    </tbody>\n",
              "</table>"
            ]
          },
          "metadata": {},
          "execution_count": 19
        }
      ]
    },
    {
      "cell_type": "markdown",
      "source": [
        "#Basic Statistics with SQL"
      ],
      "metadata": {
        "id": "BmOIPiY02c4q"
      }
    },
    {
      "cell_type": "code",
      "source": [
        "#Create the table\n",
        "%%sql\n",
        "CREATE TABLE employees (\n",
        "    salary INT,\n",
        "    name VARCHAR(50)\n",
        ");\n",
        "\n",
        "\n"
      ],
      "metadata": {
        "id": "csf0PP2f2f6y"
      },
      "execution_count": null,
      "outputs": []
    },
    {
      "cell_type": "code",
      "source": [
        "#Insert data into the table\n",
        "%%sql\n",
        "INSERT INTO employees (salary, name) VALUES (1000, 'Amit');\n",
        "INSERT INTO employees (salary, name) VALUES (2000, 'Nisha');\n",
        "INSERT INTO employees (salary, name) VALUES (3000, 'Yogesh');\n",
        "INSERT INTO employees (salary, name) VALUES (4000, 'Puja');\n",
        "INSERT INTO employees (salary, name) VALUES (9000, 'Ram');\n",
        "INSERT INTO employees (salary, name) VALUES (7000, 'Husain');\n",
        "INSERT INTO employees (salary, name) VALUES (8000, 'Risha');\n",
        "INSERT INTO employees (salary, name) VALUES (5000, 'Anil');\n",
        "INSERT INTO employees (salary, name) VALUES (10000, 'Kumar');\n",
        "INSERT INTO employees (salary, name) VALUES (6000, 'Shiv');\n",
        "\n"
      ],
      "metadata": {
        "id": "4yxGwbxW2gpE"
      },
      "execution_count": null,
      "outputs": []
    },
    {
      "cell_type": "code",
      "source": [
        "%%sql\n",
        "Select * from employees;\n"
      ],
      "metadata": {
        "id": "B1jG6sPJ2g3P"
      },
      "execution_count": null,
      "outputs": []
    },
    {
      "cell_type": "code",
      "source": [
        "#Mean\n",
        "%%sql\n",
        "SELECT Avg(salary) as MEAN FROM   employees;"
      ],
      "metadata": {
        "id": "YchMbZ5N2hBr"
      },
      "execution_count": null,
      "outputs": []
    },
    {
      "cell_type": "code",
      "source": [
        "#Mode\n",
        "%%sql\n",
        "SELECT salary\n",
        "FROM employees\n",
        "GROUP BY salary\n",
        "ORDER BY COUNT(*) DESC\n",
        "LIMIT 1;\n",
        "\n"
      ],
      "metadata": {
        "id": "Rm4xF9ci2hJp"
      },
      "execution_count": null,
      "outputs": []
    },
    {
      "cell_type": "code",
      "source": [
        "#Median - Suitable for SQL Lite\n",
        "%%sql\n",
        "\n",
        "WITH ordered AS (\n",
        "  SELECT\n",
        "    salary,\n",
        "    ROW_NUMBER() OVER (ORDER BY salary) AS rn,\n",
        "    COUNT(*) OVER () AS cnt\n",
        "  FROM employees\n",
        "  WHERE salary IS NOT NULL\n",
        ")\n",
        "SELECT AVG(salary) AS median_salary\n",
        "FROM ordered\n",
        "WHERE rn IN ((cnt + 1)/2, (cnt + 2)/2);"
      ],
      "metadata": {
        "id": "x5ZoomFe3jws"
      },
      "execution_count": null,
      "outputs": []
    },
    {
      "cell_type": "code",
      "source": [
        "#Median Suitable only in SQL SERVER\n",
        "'''  #This syntax will only work in MS SQL SERVER not in SQL Lite\n",
        "%%sql\n",
        "SET @rindex := -1;\n",
        "SELECT AVG(m.sal) FROM\n",
        "\t(SELECT @rindex:=@rindex + 1 AS rowindex, employees.salary AS sal\n",
        "\tFROM employees\n",
        "\tORDER BY employees.salary) AS m\n",
        "WHERE\n",
        "m.rowindex IN (FLOOR(@rindex / 2) , CEIL(@rindex / 2));\n",
        "'''"
      ],
      "metadata": {
        "id": "RcT3Dy1U6n1o"
      },
      "execution_count": null,
      "outputs": []
    },
    {
      "cell_type": "markdown",
      "source": [
        "#Data Munging with SQL"
      ],
      "metadata": {
        "id": "AAjzy6Hh6y61"
      }
    },
    {
      "cell_type": "code",
      "source": [
        "#UPPER\n",
        "%%sql\n",
        "SELECT UPPER(name) AS name FROM employees;"
      ],
      "metadata": {
        "id": "W3jXHUDH6z_Z"
      },
      "execution_count": null,
      "outputs": []
    },
    {
      "cell_type": "code",
      "source": [
        "#LOWER\n",
        "%%sql\n",
        "SELECT LOWER(name) AS name FROM employees;"
      ],
      "metadata": {
        "id": "JJwrxkfz63KY"
      },
      "execution_count": null,
      "outputs": []
    },
    {
      "cell_type": "code",
      "source": [
        "#TRIM\n",
        "%%sql\n",
        "SELECT TRIM(name) AS name FROM employees;"
      ],
      "metadata": {
        "id": "L-r220YW63Pw"
      },
      "execution_count": null,
      "outputs": []
    },
    {
      "cell_type": "code",
      "source": [
        "#LTRIM\n",
        "%%sql\n",
        "SELECT LTRIM(name) AS name FROM employees;"
      ],
      "metadata": {
        "id": "a5AF_OIL63Xl"
      },
      "execution_count": null,
      "outputs": []
    },
    {
      "cell_type": "code",
      "source": [
        "#RTRIM\n",
        "%%sql\n",
        "SELECT RTRIM(name) AS name FROM employees;"
      ],
      "metadata": {
        "id": "aDRpxRfk63c7"
      },
      "execution_count": null,
      "outputs": []
    },
    {
      "cell_type": "code",
      "source": [
        "#RIGHT - 2 charcter from right\n",
        "%%sql\n",
        "SELECT SUBSTR(name, -2) AS name FROM employees;"
      ],
      "metadata": {
        "id": "MUQGLVCK63i-"
      },
      "execution_count": null,
      "outputs": []
    },
    {
      "cell_type": "code",
      "source": [
        "#LEFT - For first 2 character from left name, starting position, ending position\n",
        "%%sql\n",
        "SELECT SUBSTR(name, 1, 2) AS name FROM employees;"
      ],
      "metadata": {
        "id": "F2Pw_zcf63pz"
      },
      "execution_count": null,
      "outputs": []
    },
    {
      "cell_type": "code",
      "source": [
        "#REPLACE\n",
        "%%sql\n",
        "SELECT REPLACE(name, 'a', 'A') AS name FROM employees;"
      ],
      "metadata": {
        "id": "VYNfof_e635H"
      },
      "execution_count": null,
      "outputs": []
    },
    {
      "cell_type": "markdown",
      "source": [
        "#Joins\n",
        "* In SQL, joins are commands that are used to combine rows from two or more tables.\n",
        "* These tables are combined based on a related column between those tables. Inner, left, right, and full are four basic types of SQL joins.\n",
        "* Venn diagram is the easiest way to explain the difference between these four types.\n",
        "* The result of joining two tables can be represented by the following Venn diagram\n",
        "\n"
      ],
      "metadata": {
        "id": "bLl4P7UP2ayL"
      }
    },
    {
      "cell_type": "code",
      "source": [
        "%%sql\n",
        "--Emp Table\n",
        "CREATE TABLE Emp (\n",
        "    ID INT PRIMARY KEY,\n",
        "    STATE VARCHAR(2)\n",
        ");\n"
      ],
      "metadata": {
        "colab": {
          "base_uri": "https://localhost:8080/"
        },
        "id": "gIgG3tcA2xRw",
        "outputId": "a2ac6bc1-f1dd-4d7e-8784-e0181d6bb048"
      },
      "execution_count": null,
      "outputs": [
        {
          "output_type": "stream",
          "name": "stdout",
          "text": [
            " * sqlite:////content/mydb2.db\n",
            "Done.\n"
          ]
        },
        {
          "output_type": "execute_result",
          "data": {
            "text/plain": [
              "[]"
            ]
          },
          "metadata": {},
          "execution_count": 20
        }
      ]
    },
    {
      "cell_type": "code",
      "source": [
        "%%sql\n",
        "--Insert in Emp table\n",
        "INSERT INTO Emp (ID, STATE) VALUES\n",
        "(10, 'AB'),\n",
        "(11, 'AC'),\n",
        "(12, 'AD');\n"
      ],
      "metadata": {
        "colab": {
          "base_uri": "https://localhost:8080/"
        },
        "id": "ix6-nfVV2xWj",
        "outputId": "6d963649-a3dd-450b-b52e-dec7e220d443"
      },
      "execution_count": null,
      "outputs": [
        {
          "output_type": "stream",
          "name": "stdout",
          "text": [
            " * sqlite:////content/mydb2.db\n",
            "3 rows affected.\n"
          ]
        },
        {
          "output_type": "execute_result",
          "data": {
            "text/plain": [
              "[]"
            ]
          },
          "metadata": {},
          "execution_count": 21
        }
      ]
    },
    {
      "cell_type": "code",
      "source": [
        "%%sql\n",
        "--Dept Table\n",
        "CREATE TABLE Dept (\n",
        "    ID INT PRIMARY KEY,\n",
        "    BRANCH VARCHAR(20)\n",
        ");\n",
        "\n",
        "--Insert into Dept Table\n",
        "INSERT INTO Dept (ID, BRANCH) VALUES\n",
        "(11, 'Computer'),\n",
        "(12, 'Civil'),\n",
        "(13, 'Mech');\n"
      ],
      "metadata": {
        "colab": {
          "base_uri": "https://localhost:8080/"
        },
        "id": "y4xz5wOF2xcS",
        "outputId": "e6749250-e9f9-4643-d205-98b0d18bbedf"
      },
      "execution_count": null,
      "outputs": [
        {
          "output_type": "stream",
          "name": "stdout",
          "text": [
            " * sqlite:////content/mydb2.db\n",
            "Done.\n",
            "3 rows affected.\n"
          ]
        },
        {
          "output_type": "execute_result",
          "data": {
            "text/plain": [
              "[]"
            ]
          },
          "metadata": {},
          "execution_count": 22
        }
      ]
    },
    {
      "cell_type": "code",
      "source": [
        "%%sql\n",
        "SELECT * from Emp;\n",
        "\n"
      ],
      "metadata": {
        "colab": {
          "base_uri": "https://localhost:8080/",
          "height": 141
        },
        "id": "ofEsnkrh3dx6",
        "outputId": "4edbae01-e07f-4bb7-e753-d3357a51418f"
      },
      "execution_count": null,
      "outputs": [
        {
          "output_type": "stream",
          "name": "stdout",
          "text": [
            " * sqlite:////content/mydb2.db\n",
            "Done.\n"
          ]
        },
        {
          "output_type": "execute_result",
          "data": {
            "text/plain": [
              "[(10, 'AB'), (11, 'AC'), (12, 'AD')]"
            ],
            "text/html": [
              "<table>\n",
              "    <thead>\n",
              "        <tr>\n",
              "            <th>ID</th>\n",
              "            <th>STATE</th>\n",
              "        </tr>\n",
              "    </thead>\n",
              "    <tbody>\n",
              "        <tr>\n",
              "            <td>10</td>\n",
              "            <td>AB</td>\n",
              "        </tr>\n",
              "        <tr>\n",
              "            <td>11</td>\n",
              "            <td>AC</td>\n",
              "        </tr>\n",
              "        <tr>\n",
              "            <td>12</td>\n",
              "            <td>AD</td>\n",
              "        </tr>\n",
              "    </tbody>\n",
              "</table>"
            ]
          },
          "metadata": {},
          "execution_count": 23
        }
      ]
    },
    {
      "cell_type": "code",
      "source": [
        "%%sql\n",
        "SELECT * from Dept;"
      ],
      "metadata": {
        "colab": {
          "base_uri": "https://localhost:8080/",
          "height": 141
        },
        "id": "yWMZuY4B2xgE",
        "outputId": "97c0d62f-6d5e-4d5c-a3f8-c3ccf1661771"
      },
      "execution_count": null,
      "outputs": [
        {
          "output_type": "stream",
          "name": "stdout",
          "text": [
            " * sqlite:////content/mydb2.db\n",
            "Done.\n"
          ]
        },
        {
          "output_type": "execute_result",
          "data": {
            "text/plain": [
              "[(11, 'Computer'), (12, 'Civil'), (13, 'Mech')]"
            ],
            "text/html": [
              "<table>\n",
              "    <thead>\n",
              "        <tr>\n",
              "            <th>ID</th>\n",
              "            <th>BRANCH</th>\n",
              "        </tr>\n",
              "    </thead>\n",
              "    <tbody>\n",
              "        <tr>\n",
              "            <td>11</td>\n",
              "            <td>Computer</td>\n",
              "        </tr>\n",
              "        <tr>\n",
              "            <td>12</td>\n",
              "            <td>Civil</td>\n",
              "        </tr>\n",
              "        <tr>\n",
              "            <td>13</td>\n",
              "            <td>Mech</td>\n",
              "        </tr>\n",
              "    </tbody>\n",
              "</table>"
            ]
          },
          "metadata": {},
          "execution_count": 24
        }
      ]
    },
    {
      "cell_type": "code",
      "source": [
        "#Inner Join\n",
        "%%sql\n",
        "SELECT *FROM Emp inner join Dept on Emp.ID = Dept.ID;\n"
      ],
      "metadata": {
        "colab": {
          "base_uri": "https://localhost:8080/",
          "height": 120
        },
        "id": "_tOu-AeC2wKp",
        "outputId": "55451077-4384-468a-f574-b6697d94146c"
      },
      "execution_count": null,
      "outputs": [
        {
          "output_type": "stream",
          "name": "stdout",
          "text": [
            " * sqlite:////content/mydb2.db\n",
            "Done.\n"
          ]
        },
        {
          "output_type": "execute_result",
          "data": {
            "text/plain": [
              "[(11, 'AC', 11, 'Computer'), (12, 'AD', 12, 'Civil')]"
            ],
            "text/html": [
              "<table>\n",
              "    <thead>\n",
              "        <tr>\n",
              "            <th>ID</th>\n",
              "            <th>STATE</th>\n",
              "            <th>ID_1</th>\n",
              "            <th>BRANCH</th>\n",
              "        </tr>\n",
              "    </thead>\n",
              "    <tbody>\n",
              "        <tr>\n",
              "            <td>11</td>\n",
              "            <td>AC</td>\n",
              "            <td>11</td>\n",
              "            <td>Computer</td>\n",
              "        </tr>\n",
              "        <tr>\n",
              "            <td>12</td>\n",
              "            <td>AD</td>\n",
              "            <td>12</td>\n",
              "            <td>Civil</td>\n",
              "        </tr>\n",
              "    </tbody>\n",
              "</table>"
            ]
          },
          "metadata": {},
          "execution_count": 25
        }
      ]
    },
    {
      "cell_type": "code",
      "source": [
        "#Left Outer Join\n",
        "%%sql\n",
        "SELECT *FROM Emp left outer join Dept on Emp.ID = Dept.ID;\n"
      ],
      "metadata": {
        "colab": {
          "base_uri": "https://localhost:8080/",
          "height": 141
        },
        "id": "X8DxLksT2xj_",
        "outputId": "c8444284-ed05-4dfd-901c-7343aa4490c4"
      },
      "execution_count": null,
      "outputs": [
        {
          "output_type": "stream",
          "name": "stdout",
          "text": [
            " * sqlite:////content/mydb2.db\n",
            "Done.\n"
          ]
        },
        {
          "output_type": "execute_result",
          "data": {
            "text/plain": [
              "[(10, 'AB', None, None), (11, 'AC', 11, 'Computer'), (12, 'AD', 12, 'Civil')]"
            ],
            "text/html": [
              "<table>\n",
              "    <thead>\n",
              "        <tr>\n",
              "            <th>ID</th>\n",
              "            <th>STATE</th>\n",
              "            <th>ID_1</th>\n",
              "            <th>BRANCH</th>\n",
              "        </tr>\n",
              "    </thead>\n",
              "    <tbody>\n",
              "        <tr>\n",
              "            <td>10</td>\n",
              "            <td>AB</td>\n",
              "            <td>None</td>\n",
              "            <td>None</td>\n",
              "        </tr>\n",
              "        <tr>\n",
              "            <td>11</td>\n",
              "            <td>AC</td>\n",
              "            <td>11</td>\n",
              "            <td>Computer</td>\n",
              "        </tr>\n",
              "        <tr>\n",
              "            <td>12</td>\n",
              "            <td>AD</td>\n",
              "            <td>12</td>\n",
              "            <td>Civil</td>\n",
              "        </tr>\n",
              "    </tbody>\n",
              "</table>"
            ]
          },
          "metadata": {},
          "execution_count": 26
        }
      ]
    },
    {
      "cell_type": "code",
      "source": [
        "#Right Outer Join - This is not supported here and will support in MS Sql Server\n",
        "%%sql\n",
        "SELECT * FROM Emp right outer join Dept on Emp.ID = Dept.ID;\n"
      ],
      "metadata": {
        "colab": {
          "base_uri": "https://localhost:8080/"
        },
        "id": "0mtMqqHL2xm2",
        "outputId": "7b38143c-7067-48d5-9478-74f366644f9a"
      },
      "execution_count": null,
      "outputs": [
        {
          "output_type": "stream",
          "name": "stdout",
          "text": [
            " * sqlite:////content/mydb2.db\n",
            "(sqlite3.OperationalError) RIGHT and FULL OUTER JOINs are not currently supported\n",
            "[SQL: SELECT * FROM Emp right outer join Dept on Emp.ID = Dept.ID;]\n",
            "(Background on this error at: https://sqlalche.me/e/20/e3q8)\n"
          ]
        }
      ]
    },
    {
      "cell_type": "code",
      "source": [
        "#Full Outer Join - This is not supported here and will support in MS Sql Server\n",
        "%%sql\n",
        "SELECT *FROM Emp full outer join Dept on Emp.ID = Dept.ID;"
      ],
      "metadata": {
        "colab": {
          "base_uri": "https://localhost:8080/"
        },
        "id": "iTRWglyf52Zl",
        "outputId": "5bb40f8d-b5d1-413d-d407-e504bdc20662"
      },
      "execution_count": null,
      "outputs": [
        {
          "output_type": "stream",
          "name": "stdout",
          "text": [
            " * sqlite:////content/mydb2.db\n",
            "(sqlite3.OperationalError) RIGHT and FULL OUTER JOINs are not currently supported\n",
            "[SQL: SELECT *FROM Emp full outer join Dept on Emp.ID = Dept.ID;]\n",
            "(Background on this error at: https://sqlalche.me/e/20/e3q8)\n"
          ]
        }
      ]
    },
    {
      "cell_type": "code",
      "source": [
        "#Cross Join\n",
        "%%sql\n",
        "SELECT *FROM Emp cross join Dept;"
      ],
      "metadata": {
        "colab": {
          "base_uri": "https://localhost:8080/",
          "height": 269
        },
        "id": "QFoPC-wm6J4b",
        "outputId": "fe02118f-169e-4cf2-d30b-82319331db0e"
      },
      "execution_count": null,
      "outputs": [
        {
          "output_type": "stream",
          "name": "stdout",
          "text": [
            " * sqlite:////content/mydb2.db\n",
            "Done.\n"
          ]
        },
        {
          "output_type": "execute_result",
          "data": {
            "text/plain": [
              "[(10, 'AB', 11, 'Computer'),\n",
              " (10, 'AB', 12, 'Civil'),\n",
              " (10, 'AB', 13, 'Mech'),\n",
              " (11, 'AC', 11, 'Computer'),\n",
              " (11, 'AC', 12, 'Civil'),\n",
              " (11, 'AC', 13, 'Mech'),\n",
              " (12, 'AD', 11, 'Computer'),\n",
              " (12, 'AD', 12, 'Civil'),\n",
              " (12, 'AD', 13, 'Mech')]"
            ],
            "text/html": [
              "<table>\n",
              "    <thead>\n",
              "        <tr>\n",
              "            <th>ID</th>\n",
              "            <th>STATE</th>\n",
              "            <th>ID_1</th>\n",
              "            <th>BRANCH</th>\n",
              "        </tr>\n",
              "    </thead>\n",
              "    <tbody>\n",
              "        <tr>\n",
              "            <td>10</td>\n",
              "            <td>AB</td>\n",
              "            <td>11</td>\n",
              "            <td>Computer</td>\n",
              "        </tr>\n",
              "        <tr>\n",
              "            <td>10</td>\n",
              "            <td>AB</td>\n",
              "            <td>12</td>\n",
              "            <td>Civil</td>\n",
              "        </tr>\n",
              "        <tr>\n",
              "            <td>10</td>\n",
              "            <td>AB</td>\n",
              "            <td>13</td>\n",
              "            <td>Mech</td>\n",
              "        </tr>\n",
              "        <tr>\n",
              "            <td>11</td>\n",
              "            <td>AC</td>\n",
              "            <td>11</td>\n",
              "            <td>Computer</td>\n",
              "        </tr>\n",
              "        <tr>\n",
              "            <td>11</td>\n",
              "            <td>AC</td>\n",
              "            <td>12</td>\n",
              "            <td>Civil</td>\n",
              "        </tr>\n",
              "        <tr>\n",
              "            <td>11</td>\n",
              "            <td>AC</td>\n",
              "            <td>13</td>\n",
              "            <td>Mech</td>\n",
              "        </tr>\n",
              "        <tr>\n",
              "            <td>12</td>\n",
              "            <td>AD</td>\n",
              "            <td>11</td>\n",
              "            <td>Computer</td>\n",
              "        </tr>\n",
              "        <tr>\n",
              "            <td>12</td>\n",
              "            <td>AD</td>\n",
              "            <td>12</td>\n",
              "            <td>Civil</td>\n",
              "        </tr>\n",
              "        <tr>\n",
              "            <td>12</td>\n",
              "            <td>AD</td>\n",
              "            <td>13</td>\n",
              "            <td>Mech</td>\n",
              "        </tr>\n",
              "    </tbody>\n",
              "</table>"
            ]
          },
          "metadata": {},
          "execution_count": 33
        }
      ]
    },
    {
      "cell_type": "markdown",
      "source": [
        "#Preparing Data for Analytics Tool"
      ],
      "metadata": {
        "id": "5AaTcjrf9INf"
      }
    },
    {
      "cell_type": "code",
      "source": [
        "%%sql\n",
        "--SALES TABLE\n",
        "CREATE TABLE sales (\n",
        "    sale_no INT PRIMARY KEY,\n",
        "    product_id INT,\n",
        "    quantity INT,\n",
        "    price INT,\n",
        "    customer_name VARCHAR(50)\n",
        ");\n"
      ],
      "metadata": {
        "colab": {
          "base_uri": "https://localhost:8080/"
        },
        "id": "y_2dPRAmumyK",
        "outputId": "ceac597a-0ffe-4ad2-906e-bb0fd6640f91"
      },
      "execution_count": 3,
      "outputs": [
        {
          "output_type": "stream",
          "name": "stdout",
          "text": [
            " * sqlite:////content/mydb2.db\n",
            "Done.\n"
          ]
        },
        {
          "output_type": "execute_result",
          "data": {
            "text/plain": [
              "[]"
            ]
          },
          "metadata": {},
          "execution_count": 3
        }
      ]
    },
    {
      "cell_type": "code",
      "source": [
        "#INSERT RECORD INTO SALES TABLE\n",
        "%%sql\n",
        "INSERT INTO sales (sale_no, product_id, quantity, price, customer_name) VALUES\n",
        "(5001, 3, 4, 21000, 'John'),\n",
        "(5002, 11, NULL, 17000, 'Anna'),\n",
        "(5003, 94, 10, 105000, 'Tom'),\n",
        "(5004, 86, 8, 27000, 'Nora'),\n",
        "(5005, 88, 18, 8000, 'Tom');\n",
        "\n"
      ],
      "metadata": {
        "colab": {
          "base_uri": "https://localhost:8080/"
        },
        "id": "cXHW67EWw29i",
        "outputId": "04ed613c-bc52-4f75-cf37-58da382b1de8"
      },
      "execution_count": 4,
      "outputs": [
        {
          "output_type": "stream",
          "name": "stdout",
          "text": [
            " * sqlite:////content/mydb2.db\n",
            "5 rows affected.\n"
          ]
        },
        {
          "output_type": "execute_result",
          "data": {
            "text/plain": [
              "[]"
            ]
          },
          "metadata": {},
          "execution_count": 4
        }
      ]
    },
    {
      "cell_type": "code",
      "source": [
        "%%sql\n",
        "SELECT * FROM SALES;"
      ],
      "metadata": {
        "colab": {
          "base_uri": "https://localhost:8080/",
          "height": 184
        },
        "id": "PLcyM_u8zd_K",
        "outputId": "8f6fecc4-6fc1-4955-a7e3-bd493cfd7c5b"
      },
      "execution_count": 5,
      "outputs": [
        {
          "output_type": "stream",
          "name": "stdout",
          "text": [
            " * sqlite:////content/mydb2.db\n",
            "Done.\n"
          ]
        },
        {
          "output_type": "execute_result",
          "data": {
            "text/plain": [
              "[(5001, 3, 4, 21000, 'John'),\n",
              " (5002, 11, None, 17000, 'Anna'),\n",
              " (5003, 94, 10, 105000, 'Tom'),\n",
              " (5004, 86, 8, 27000, 'Nora'),\n",
              " (5005, 88, 18, 8000, 'Tom')]"
            ],
            "text/html": [
              "<table>\n",
              "    <thead>\n",
              "        <tr>\n",
              "            <th>sale_no</th>\n",
              "            <th>product_id</th>\n",
              "            <th>quantity</th>\n",
              "            <th>price</th>\n",
              "            <th>customer_name</th>\n",
              "        </tr>\n",
              "    </thead>\n",
              "    <tbody>\n",
              "        <tr>\n",
              "            <td>5001</td>\n",
              "            <td>3</td>\n",
              "            <td>4</td>\n",
              "            <td>21000</td>\n",
              "            <td>John</td>\n",
              "        </tr>\n",
              "        <tr>\n",
              "            <td>5002</td>\n",
              "            <td>11</td>\n",
              "            <td>None</td>\n",
              "            <td>17000</td>\n",
              "            <td>Anna</td>\n",
              "        </tr>\n",
              "        <tr>\n",
              "            <td>5003</td>\n",
              "            <td>94</td>\n",
              "            <td>10</td>\n",
              "            <td>105000</td>\n",
              "            <td>Tom</td>\n",
              "        </tr>\n",
              "        <tr>\n",
              "            <td>5004</td>\n",
              "            <td>86</td>\n",
              "            <td>8</td>\n",
              "            <td>27000</td>\n",
              "            <td>Nora</td>\n",
              "        </tr>\n",
              "        <tr>\n",
              "            <td>5005</td>\n",
              "            <td>88</td>\n",
              "            <td>18</td>\n",
              "            <td>8000</td>\n",
              "            <td>Tom</td>\n",
              "        </tr>\n",
              "    </tbody>\n",
              "</table>"
            ]
          },
          "metadata": {},
          "execution_count": 5
        }
      ]
    },
    {
      "cell_type": "code",
      "source": [
        "#CASE\n",
        "%%sql\n",
        "SELECT *,\n",
        "\tCASE\t WHEN quantity >= 10 THEN 'More'\n",
        "\t\t\tWHEN quantity >= 6 THEN 'Avg'\n",
        "\t\t\tELSE 'Less'\n",
        "\tEND AS summary\n",
        "FROM sales;\n"
      ],
      "metadata": {
        "colab": {
          "base_uri": "https://localhost:8080/",
          "height": 184
        },
        "id": "8AOPcjXGxPt5",
        "outputId": "1df9c009-1fe0-4bbc-d934-f471ce6c9c09"
      },
      "execution_count": 6,
      "outputs": [
        {
          "output_type": "stream",
          "name": "stdout",
          "text": [
            " * sqlite:////content/mydb2.db\n",
            "Done.\n"
          ]
        },
        {
          "output_type": "execute_result",
          "data": {
            "text/plain": [
              "[(5001, 3, 4, 21000, 'John', 'Less'),\n",
              " (5002, 11, None, 17000, 'Anna', 'Less'),\n",
              " (5003, 94, 10, 105000, 'Tom', 'More'),\n",
              " (5004, 86, 8, 27000, 'Nora', 'Avg'),\n",
              " (5005, 88, 18, 8000, 'Tom', 'More')]"
            ],
            "text/html": [
              "<table>\n",
              "    <thead>\n",
              "        <tr>\n",
              "            <th>sale_no</th>\n",
              "            <th>product_id</th>\n",
              "            <th>quantity</th>\n",
              "            <th>price</th>\n",
              "            <th>customer_name</th>\n",
              "            <th>summary</th>\n",
              "        </tr>\n",
              "    </thead>\n",
              "    <tbody>\n",
              "        <tr>\n",
              "            <td>5001</td>\n",
              "            <td>3</td>\n",
              "            <td>4</td>\n",
              "            <td>21000</td>\n",
              "            <td>John</td>\n",
              "            <td>Less</td>\n",
              "        </tr>\n",
              "        <tr>\n",
              "            <td>5002</td>\n",
              "            <td>11</td>\n",
              "            <td>None</td>\n",
              "            <td>17000</td>\n",
              "            <td>Anna</td>\n",
              "            <td>Less</td>\n",
              "        </tr>\n",
              "        <tr>\n",
              "            <td>5003</td>\n",
              "            <td>94</td>\n",
              "            <td>10</td>\n",
              "            <td>105000</td>\n",
              "            <td>Tom</td>\n",
              "            <td>More</td>\n",
              "        </tr>\n",
              "        <tr>\n",
              "            <td>5004</td>\n",
              "            <td>86</td>\n",
              "            <td>8</td>\n",
              "            <td>27000</td>\n",
              "            <td>Nora</td>\n",
              "            <td>Avg</td>\n",
              "        </tr>\n",
              "        <tr>\n",
              "            <td>5005</td>\n",
              "            <td>88</td>\n",
              "            <td>18</td>\n",
              "            <td>8000</td>\n",
              "            <td>Tom</td>\n",
              "            <td>More</td>\n",
              "        </tr>\n",
              "    </tbody>\n",
              "</table>"
            ]
          },
          "metadata": {},
          "execution_count": 6
        }
      ]
    },
    {
      "cell_type": "code",
      "source": [
        "#COALESCE\n",
        "%%sql\n",
        "SELECT customer_name, product_id,\n",
        "COALESCE(quantity, -1) AS quantity\n",
        "FROM sales;\n",
        "\n",
        "\n"
      ],
      "metadata": {
        "colab": {
          "base_uri": "https://localhost:8080/",
          "height": 184
        },
        "id": "I_1HQx3WycXJ",
        "outputId": "a800046b-3173-427d-a532-6e8405d99927"
      },
      "execution_count": 7,
      "outputs": [
        {
          "output_type": "stream",
          "name": "stdout",
          "text": [
            " * sqlite:////content/mydb2.db\n",
            "Done.\n"
          ]
        },
        {
          "output_type": "execute_result",
          "data": {
            "text/plain": [
              "[('John', 3, 4),\n",
              " ('Anna', 11, -1),\n",
              " ('Tom', 94, 10),\n",
              " ('Nora', 86, 8),\n",
              " ('Tom', 88, 18)]"
            ],
            "text/html": [
              "<table>\n",
              "    <thead>\n",
              "        <tr>\n",
              "            <th>customer_name</th>\n",
              "            <th>product_id</th>\n",
              "            <th>quantity</th>\n",
              "        </tr>\n",
              "    </thead>\n",
              "    <tbody>\n",
              "        <tr>\n",
              "            <td>John</td>\n",
              "            <td>3</td>\n",
              "            <td>4</td>\n",
              "        </tr>\n",
              "        <tr>\n",
              "            <td>Anna</td>\n",
              "            <td>11</td>\n",
              "            <td>-1</td>\n",
              "        </tr>\n",
              "        <tr>\n",
              "            <td>Tom</td>\n",
              "            <td>94</td>\n",
              "            <td>10</td>\n",
              "        </tr>\n",
              "        <tr>\n",
              "            <td>Nora</td>\n",
              "            <td>86</td>\n",
              "            <td>8</td>\n",
              "        </tr>\n",
              "        <tr>\n",
              "            <td>Tom</td>\n",
              "            <td>88</td>\n",
              "            <td>18</td>\n",
              "        </tr>\n",
              "    </tbody>\n",
              "</table>"
            ]
          },
          "metadata": {},
          "execution_count": 7
        }
      ]
    },
    {
      "cell_type": "code",
      "source": [
        "#NULLIF\n",
        "%%sql\n",
        "SELECT sale_no, customer_name,\n",
        "NULLIF(product_id, 11) AS product_id\n",
        "FROM sales;\n"
      ],
      "metadata": {
        "id": "K8SPLND2yopG",
        "outputId": "7e58a9d9-52b9-4e3c-fd3e-2f202e5a984a",
        "colab": {
          "base_uri": "https://localhost:8080/",
          "height": 184
        }
      },
      "execution_count": 8,
      "outputs": [
        {
          "output_type": "stream",
          "name": "stdout",
          "text": [
            " * sqlite:////content/mydb2.db\n",
            "Done.\n"
          ]
        },
        {
          "output_type": "execute_result",
          "data": {
            "text/plain": [
              "[(5001, 'John', 3),\n",
              " (5002, 'Anna', None),\n",
              " (5003, 'Tom', 94),\n",
              " (5004, 'Nora', 86),\n",
              " (5005, 'Tom', 88)]"
            ],
            "text/html": [
              "<table>\n",
              "    <thead>\n",
              "        <tr>\n",
              "            <th>sale_no</th>\n",
              "            <th>customer_name</th>\n",
              "            <th>product_id</th>\n",
              "        </tr>\n",
              "    </thead>\n",
              "    <tbody>\n",
              "        <tr>\n",
              "            <td>5001</td>\n",
              "            <td>John</td>\n",
              "            <td>3</td>\n",
              "        </tr>\n",
              "        <tr>\n",
              "            <td>5002</td>\n",
              "            <td>Anna</td>\n",
              "            <td>None</td>\n",
              "        </tr>\n",
              "        <tr>\n",
              "            <td>5003</td>\n",
              "            <td>Tom</td>\n",
              "            <td>94</td>\n",
              "        </tr>\n",
              "        <tr>\n",
              "            <td>5004</td>\n",
              "            <td>Nora</td>\n",
              "            <td>86</td>\n",
              "        </tr>\n",
              "        <tr>\n",
              "            <td>5005</td>\n",
              "            <td>Tom</td>\n",
              "            <td>88</td>\n",
              "        </tr>\n",
              "    </tbody>\n",
              "</table>"
            ]
          },
          "metadata": {},
          "execution_count": 8
        }
      ]
    },
    {
      "cell_type": "code",
      "source": [
        "#LEAST\n",
        "%%sql\n",
        "SELECT sale_no, product_id, quantity,\n",
        "MAX(10000, price) as price FROM sales;\n"
      ],
      "metadata": {
        "id": "EJ79z3mMyyGB",
        "outputId": "4485fdc6-1df7-430e-ea70-1404c834da8a",
        "colab": {
          "base_uri": "https://localhost:8080/",
          "height": 184
        }
      },
      "execution_count": 9,
      "outputs": [
        {
          "output_type": "stream",
          "name": "stdout",
          "text": [
            " * sqlite:////content/mydb2.db\n",
            "Done.\n"
          ]
        },
        {
          "output_type": "execute_result",
          "data": {
            "text/plain": [
              "[(5001, 3, 4, 21000),\n",
              " (5002, 11, None, 17000),\n",
              " (5003, 94, 10, 105000),\n",
              " (5004, 86, 8, 27000),\n",
              " (5005, 88, 18, 10000)]"
            ],
            "text/html": [
              "<table>\n",
              "    <thead>\n",
              "        <tr>\n",
              "            <th>sale_no</th>\n",
              "            <th>product_id</th>\n",
              "            <th>quantity</th>\n",
              "            <th>price</th>\n",
              "        </tr>\n",
              "    </thead>\n",
              "    <tbody>\n",
              "        <tr>\n",
              "            <td>5001</td>\n",
              "            <td>3</td>\n",
              "            <td>4</td>\n",
              "            <td>21000</td>\n",
              "        </tr>\n",
              "        <tr>\n",
              "            <td>5002</td>\n",
              "            <td>11</td>\n",
              "            <td>None</td>\n",
              "            <td>17000</td>\n",
              "        </tr>\n",
              "        <tr>\n",
              "            <td>5003</td>\n",
              "            <td>94</td>\n",
              "            <td>10</td>\n",
              "            <td>105000</td>\n",
              "        </tr>\n",
              "        <tr>\n",
              "            <td>5004</td>\n",
              "            <td>86</td>\n",
              "            <td>8</td>\n",
              "            <td>27000</td>\n",
              "        </tr>\n",
              "        <tr>\n",
              "            <td>5005</td>\n",
              "            <td>88</td>\n",
              "            <td>18</td>\n",
              "            <td>10000</td>\n",
              "        </tr>\n",
              "    </tbody>\n",
              "</table>"
            ]
          },
          "metadata": {},
          "execution_count": 9
        }
      ]
    },
    {
      "cell_type": "code",
      "source": [
        "#GREATEST\n",
        "%%sql\n",
        "\n",
        "SELECT sale_no, product_id, quantity,\n",
        "MIN(10000, price) as price\n",
        "FROM sales;"
      ],
      "metadata": {
        "colab": {
          "base_uri": "https://localhost:8080/",
          "height": 184
        },
        "id": "bxd2b2mVzByS",
        "outputId": "c61bd165-c75e-48f0-ce1e-26c7ad251445"
      },
      "execution_count": 10,
      "outputs": [
        {
          "output_type": "stream",
          "name": "stdout",
          "text": [
            " * sqlite:////content/mydb2.db\n",
            "Done.\n"
          ]
        },
        {
          "output_type": "execute_result",
          "data": {
            "text/plain": [
              "[(5001, 3, 4, 10000),\n",
              " (5002, 11, None, 10000),\n",
              " (5003, 94, 10, 10000),\n",
              " (5004, 86, 8, 10000),\n",
              " (5005, 88, 18, 8000)]"
            ],
            "text/html": [
              "<table>\n",
              "    <thead>\n",
              "        <tr>\n",
              "            <th>sale_no</th>\n",
              "            <th>product_id</th>\n",
              "            <th>quantity</th>\n",
              "            <th>price</th>\n",
              "        </tr>\n",
              "    </thead>\n",
              "    <tbody>\n",
              "        <tr>\n",
              "            <td>5001</td>\n",
              "            <td>3</td>\n",
              "            <td>4</td>\n",
              "            <td>10000</td>\n",
              "        </tr>\n",
              "        <tr>\n",
              "            <td>5002</td>\n",
              "            <td>11</td>\n",
              "            <td>None</td>\n",
              "            <td>10000</td>\n",
              "        </tr>\n",
              "        <tr>\n",
              "            <td>5003</td>\n",
              "            <td>94</td>\n",
              "            <td>10</td>\n",
              "            <td>10000</td>\n",
              "        </tr>\n",
              "        <tr>\n",
              "            <td>5004</td>\n",
              "            <td>86</td>\n",
              "            <td>8</td>\n",
              "            <td>10000</td>\n",
              "        </tr>\n",
              "        <tr>\n",
              "            <td>5005</td>\n",
              "            <td>88</td>\n",
              "            <td>18</td>\n",
              "            <td>8000</td>\n",
              "        </tr>\n",
              "    </tbody>\n",
              "</table>"
            ]
          },
          "metadata": {},
          "execution_count": 10
        }
      ]
    },
    {
      "cell_type": "code",
      "source": [
        "%%sql\n",
        "SELECT DISTINCT customer_name FROM sales;\n"
      ],
      "metadata": {
        "id": "fuAk-vZeMV1q",
        "outputId": "696b7335-e4bf-4f1d-a8e9-87d7e9fb82dd",
        "colab": {
          "base_uri": "https://localhost:8080/",
          "height": 163
        }
      },
      "execution_count": 11,
      "outputs": [
        {
          "output_type": "stream",
          "name": "stdout",
          "text": [
            " * sqlite:////content/mydb2.db\n",
            "Done.\n"
          ]
        },
        {
          "output_type": "execute_result",
          "data": {
            "text/plain": [
              "[('John',), ('Anna',), ('Tom',), ('Nora',)]"
            ],
            "text/html": [
              "<table>\n",
              "    <thead>\n",
              "        <tr>\n",
              "            <th>customer_name</th>\n",
              "        </tr>\n",
              "    </thead>\n",
              "    <tbody>\n",
              "        <tr>\n",
              "            <td>John</td>\n",
              "        </tr>\n",
              "        <tr>\n",
              "            <td>Anna</td>\n",
              "        </tr>\n",
              "        <tr>\n",
              "            <td>Tom</td>\n",
              "        </tr>\n",
              "        <tr>\n",
              "            <td>Nora</td>\n",
              "        </tr>\n",
              "    </tbody>\n",
              "</table>"
            ]
          },
          "metadata": {},
          "execution_count": 11
        }
      ]
    }
  ]
}