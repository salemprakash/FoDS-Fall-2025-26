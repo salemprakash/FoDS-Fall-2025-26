{
  "nbformat": 4,
  "nbformat_minor": 0,
  "metadata": {
    "colab": {
      "provenance": [],
      "collapsed_sections": [
        "BmOIPiY02c4q"
      ],
      "authorship_tag": "ABX9TyNKlzjviMHXk3+GbS1Z5P9N",
      "include_colab_link": true
    },
    "kernelspec": {
      "name": "python3",
      "display_name": "Python 3"
    },
    "language_info": {
      "name": "python"
    }
  },
  "cells": [
    {
      "cell_type": "markdown",
      "metadata": {
        "id": "view-in-github",
        "colab_type": "text"
      },
      "source": [
        "<a href=\"https://colab.research.google.com/github/salemprakash/FoDS-Fall-2025-26/blob/main/Module%202%20Sql.ipynb\" target=\"_parent\"><img src=\"https://colab.research.google.com/assets/colab-badge.svg\" alt=\"Open In Colab\"/></a>"
      ]
    },
    {
      "cell_type": "code",
      "execution_count": 10,
      "metadata": {
        "collapsed": true,
        "id": "FDkAJS6klT5I",
        "outputId": "1b4cbf12-138b-430c-cbd9-07abd62a7959",
        "colab": {
          "base_uri": "https://localhost:8080/"
        }
      },
      "outputs": [
        {
          "output_type": "stream",
          "name": "stdout",
          "text": [
            "The sql extension is already loaded. To reload it, use:\n",
            "  %reload_ext sql\n"
          ]
        }
      ],
      "source": [
        "#Install and Load the Extension.\n",
        "!pip -q install \"ipython-sql>=0.5.0\" \"prettytable<3.10\"\n",
        "%load_ext sql"
      ]
    },
    {
      "cell_type": "code",
      "source": [
        "#Connect to a Database\n",
        "%sql sqlite:////content/mydb2.db\n",
        "%config SqlMagic.style = 'PLAIN_COLUMNS'"
      ],
      "metadata": {
        "id": "G3Ms5sGFlm-b"
      },
      "execution_count": 11,
      "outputs": []
    },
    {
      "cell_type": "code",
      "source": [
        "%%sql\n",
        "CREATE TABLE IF NOT EXISTS employees (\n",
        "  emp_id    INTEGER PRIMARY KEY,\n",
        "  name      TEXT NOT NULL,\n",
        "  dept      TEXT,\n",
        "  salary    INTEGER\n",
        ");"
      ],
      "metadata": {
        "id": "4xt8Su9Dl_3a",
        "colab": {
          "base_uri": "https://localhost:8080/"
        },
        "outputId": "4d512d93-a964-4a04-ff2f-e074c0a760ec"
      },
      "execution_count": 17,
      "outputs": [
        {
          "output_type": "stream",
          "name": "stdout",
          "text": [
            " * sqlite:////content/mydb2.db\n",
            "Done.\n"
          ]
        },
        {
          "output_type": "execute_result",
          "data": {
            "text/plain": [
              "[]"
            ]
          },
          "metadata": {},
          "execution_count": 17
        }
      ]
    },
    {
      "cell_type": "code",
      "source": [
        "%%sql\n",
        "INSERT INTO employees VALUES\n",
        "(1,'Alice','Data Science',90000),\n",
        "(2,'Bob','Analytics',78000),\n",
        "(3,'Carol','Engineering',105000),\n",
        "(4,'David','Analytics',82000),\n",
        "(5,'Eve','Data Science',96000);"
      ],
      "metadata": {
        "colab": {
          "base_uri": "https://localhost:8080/"
        },
        "id": "_YhBvOM8tOKT",
        "outputId": "dad78936-0026-452e-b8c0-267d6e091c41"
      },
      "execution_count": 18,
      "outputs": [
        {
          "output_type": "stream",
          "name": "stdout",
          "text": [
            " * sqlite:////content/mydb2.db\n",
            "5 rows affected.\n"
          ]
        },
        {
          "output_type": "execute_result",
          "data": {
            "text/plain": [
              "[]"
            ]
          },
          "metadata": {},
          "execution_count": 18
        }
      ]
    },
    {
      "cell_type": "code",
      "source": [
        "%%sql\n",
        "SELECT * FROM employees ORDER BY emp_id;"
      ],
      "metadata": {
        "colab": {
          "base_uri": "https://localhost:8080/",
          "height": 184
        },
        "id": "rmQTZoqutQGe",
        "outputId": "0ae6520e-608c-49fd-ae51-77d918c87218"
      },
      "execution_count": null,
      "outputs": [
        {
          "output_type": "stream",
          "name": "stdout",
          "text": [
            " * sqlite:////content/mydb2.db\n",
            "Done.\n"
          ]
        },
        {
          "output_type": "execute_result",
          "data": {
            "text/plain": [
              "[(1, 'Alice', 'Data Science', 90000),\n",
              " (2, 'Bob', 'Analytics', 78000),\n",
              " (3, 'Carol', 'Engineering', 105000),\n",
              " (4, 'David', 'Analytics', 82000),\n",
              " (5, 'Eve', 'Data Science', 96000)]"
            ],
            "text/html": [
              "<table>\n",
              "    <thead>\n",
              "        <tr>\n",
              "            <th>emp_id</th>\n",
              "            <th>name</th>\n",
              "            <th>dept</th>\n",
              "            <th>salary</th>\n",
              "        </tr>\n",
              "    </thead>\n",
              "    <tbody>\n",
              "        <tr>\n",
              "            <td>1</td>\n",
              "            <td>Alice</td>\n",
              "            <td>Data Science</td>\n",
              "            <td>90000</td>\n",
              "        </tr>\n",
              "        <tr>\n",
              "            <td>2</td>\n",
              "            <td>Bob</td>\n",
              "            <td>Analytics</td>\n",
              "            <td>78000</td>\n",
              "        </tr>\n",
              "        <tr>\n",
              "            <td>3</td>\n",
              "            <td>Carol</td>\n",
              "            <td>Engineering</td>\n",
              "            <td>105000</td>\n",
              "        </tr>\n",
              "        <tr>\n",
              "            <td>4</td>\n",
              "            <td>David</td>\n",
              "            <td>Analytics</td>\n",
              "            <td>82000</td>\n",
              "        </tr>\n",
              "        <tr>\n",
              "            <td>5</td>\n",
              "            <td>Eve</td>\n",
              "            <td>Data Science</td>\n",
              "            <td>96000</td>\n",
              "        </tr>\n",
              "    </tbody>\n",
              "</table>"
            ]
          },
          "metadata": {},
          "execution_count": 19
        }
      ]
    },
    {
      "cell_type": "markdown",
      "source": [
        "#Basic Statistics with SQL"
      ],
      "metadata": {
        "id": "BmOIPiY02c4q"
      }
    },
    {
      "cell_type": "code",
      "source": [
        "#Create the table\n",
        "%%sql\n",
        "CREATE TABLE employees (\n",
        "    salary INT,\n",
        "    name VARCHAR(50)\n",
        ");\n",
        "\n",
        "\n"
      ],
      "metadata": {
        "id": "csf0PP2f2f6y"
      },
      "execution_count": null,
      "outputs": []
    },
    {
      "cell_type": "code",
      "source": [
        "#Insert data into the table\n",
        "%%sql\n",
        "INSERT INTO employees (salary, name) VALUES (1000, 'Amit');\n",
        "INSERT INTO employees (salary, name) VALUES (2000, 'Nisha');\n",
        "INSERT INTO employees (salary, name) VALUES (3000, 'Yogesh');\n",
        "INSERT INTO employees (salary, name) VALUES (4000, 'Puja');\n",
        "INSERT INTO employees (salary, name) VALUES (9000, 'Ram');\n",
        "INSERT INTO employees (salary, name) VALUES (7000, 'Husain');\n",
        "INSERT INTO employees (salary, name) VALUES (8000, 'Risha');\n",
        "INSERT INTO employees (salary, name) VALUES (5000, 'Anil');\n",
        "INSERT INTO employees (salary, name) VALUES (10000, 'Kumar');\n",
        "INSERT INTO employees (salary, name) VALUES (6000, 'Shiv');\n",
        "\n"
      ],
      "metadata": {
        "id": "4yxGwbxW2gpE"
      },
      "execution_count": null,
      "outputs": []
    },
    {
      "cell_type": "code",
      "source": [
        "%%sql\n",
        "Select * from employees;\n"
      ],
      "metadata": {
        "id": "B1jG6sPJ2g3P"
      },
      "execution_count": null,
      "outputs": []
    },
    {
      "cell_type": "code",
      "source": [
        "#Mean\n",
        "%%sql\n",
        "SELECT Avg(salary) as MEAN FROM   employees;"
      ],
      "metadata": {
        "id": "YchMbZ5N2hBr"
      },
      "execution_count": null,
      "outputs": []
    },
    {
      "cell_type": "code",
      "source": [
        "#Mode\n",
        "%%sql\n",
        "SELECT salary\n",
        "FROM employees\n",
        "GROUP BY salary\n",
        "ORDER BY COUNT(*) DESC\n",
        "LIMIT 1;\n",
        "\n"
      ],
      "metadata": {
        "id": "Rm4xF9ci2hJp"
      },
      "execution_count": null,
      "outputs": []
    },
    {
      "cell_type": "code",
      "source": [
        "#Median - Suitable for SQL Lite\n",
        "%%sql\n",
        "\n",
        "WITH ordered AS (\n",
        "  SELECT\n",
        "    salary,\n",
        "    ROW_NUMBER() OVER (ORDER BY salary) AS rn,\n",
        "    COUNT(*) OVER () AS cnt\n",
        "  FROM employees\n",
        "  WHERE salary IS NOT NULL\n",
        ")\n",
        "SELECT AVG(salary) AS median_salary\n",
        "FROM ordered\n",
        "WHERE rn IN ((cnt + 1)/2, (cnt + 2)/2);"
      ],
      "metadata": {
        "id": "x5ZoomFe3jws"
      },
      "execution_count": null,
      "outputs": []
    },
    {
      "cell_type": "code",
      "source": [
        "#Median Suitable only in SQL SERVER\n",
        "'''  #This syntax will only work in MS SQL SERVER not in SQL Lite\n",
        "%%sql\n",
        "SET @rindex := -1;\n",
        "SELECT AVG(m.sal) FROM\n",
        "\t(SELECT @rindex:=@rindex + 1 AS rowindex, employees.salary AS sal\n",
        "\tFROM employees\n",
        "\tORDER BY employees.salary) AS m\n",
        "WHERE\n",
        "m.rowindex IN (FLOOR(@rindex / 2) , CEIL(@rindex / 2));\n",
        "'''"
      ],
      "metadata": {
        "id": "RcT3Dy1U6n1o"
      },
      "execution_count": null,
      "outputs": []
    },
    {
      "cell_type": "markdown",
      "source": [
        "#Data Munging with SQL"
      ],
      "metadata": {
        "id": "AAjzy6Hh6y61"
      }
    },
    {
      "cell_type": "code",
      "source": [
        "#UPPER\n",
        "%%sql\n",
        "SELECT UPPER(name) AS name FROM employees;"
      ],
      "metadata": {
        "id": "W3jXHUDH6z_Z"
      },
      "execution_count": null,
      "outputs": []
    },
    {
      "cell_type": "code",
      "source": [
        "#LOWER\n",
        "%%sql\n",
        "SELECT LOWER(name) AS name FROM employees;"
      ],
      "metadata": {
        "id": "JJwrxkfz63KY"
      },
      "execution_count": null,
      "outputs": []
    },
    {
      "cell_type": "code",
      "source": [
        "#TRIM\n",
        "%%sql\n",
        "SELECT TRIM(name) AS name FROM employees;"
      ],
      "metadata": {
        "id": "L-r220YW63Pw"
      },
      "execution_count": null,
      "outputs": []
    },
    {
      "cell_type": "code",
      "source": [
        "#LTRIM\n",
        "%%sql\n",
        "SELECT LTRIM(name) AS name FROM employees;"
      ],
      "metadata": {
        "id": "a5AF_OIL63Xl"
      },
      "execution_count": null,
      "outputs": []
    },
    {
      "cell_type": "code",
      "source": [
        "#RTRIM\n",
        "%%sql\n",
        "SELECT RTRIM(name) AS name FROM employees;"
      ],
      "metadata": {
        "id": "aDRpxRfk63c7"
      },
      "execution_count": null,
      "outputs": []
    },
    {
      "cell_type": "code",
      "source": [
        "#RIGHT - 2 charcter from right\n",
        "%%sql\n",
        "SELECT SUBSTR(name, -2) AS name FROM employees;"
      ],
      "metadata": {
        "id": "MUQGLVCK63i-"
      },
      "execution_count": null,
      "outputs": []
    },
    {
      "cell_type": "code",
      "source": [
        "#LEFT - For first 2 character from left name, starting position, ending position\n",
        "%%sql\n",
        "SELECT SUBSTR(name, 1, 2) AS name FROM employees;"
      ],
      "metadata": {
        "id": "F2Pw_zcf63pz"
      },
      "execution_count": null,
      "outputs": []
    },
    {
      "cell_type": "code",
      "source": [
        "#REPLACE\n",
        "%%sql\n",
        "SELECT REPLACE(name, 'a', 'A') AS name FROM employees;"
      ],
      "metadata": {
        "id": "VYNfof_e635H"
      },
      "execution_count": null,
      "outputs": []
    },
    {
      "cell_type": "markdown",
      "source": [
        "#Joins\n",
        "* In SQL, joins are commands that are used to combine rows from two or more tables.\n",
        "* These tables are combined based on a related column between those tables. Inner, left, right, and full are four basic types of SQL joins.\n",
        "* Venn diagram is the easiest way to explain the difference between these four types.\n",
        "* The result of joining two tables can be represented by the following Venn diagram\n",
        "\n",
        "![Untitled.png](data:image/png;base64,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)\n",
        "\n",
        "\n"
      ],
      "metadata": {
        "id": "bLl4P7UP2ayL"
      }
    },
    {
      "cell_type": "code",
      "source": [
        "%%sql\n",
        "--Emp Table\n",
        "CREATE TABLE Emp (\n",
        "    ID INT PRIMARY KEY,\n",
        "    STATE VARCHAR(2)\n",
        ");\n"
      ],
      "metadata": {
        "colab": {
          "base_uri": "https://localhost:8080/"
        },
        "id": "gIgG3tcA2xRw",
        "outputId": "6aa7be43-bcc1-452f-f06e-cedaaa996e6f"
      },
      "execution_count": 12,
      "outputs": [
        {
          "output_type": "stream",
          "name": "stdout",
          "text": [
            " * sqlite:////content/mydb2.db\n",
            "(sqlite3.OperationalError) table Emp already exists\n",
            "[SQL: --Emp Table\n",
            "CREATE TABLE Emp (\n",
            "    ID INT PRIMARY KEY,\n",
            "    STATE VARCHAR(2)\n",
            ");]\n",
            "(Background on this error at: https://sqlalche.me/e/20/e3q8)\n"
          ]
        }
      ]
    },
    {
      "cell_type": "code",
      "source": [
        "%%sql\n",
        "--Insert in Emp table\n",
        "INSERT INTO Emp (ID, STATE) VALUES\n",
        "(10, 'AB'),\n",
        "(11, 'AC'),\n",
        "(12, 'AD');\n"
      ],
      "metadata": {
        "colab": {
          "base_uri": "https://localhost:8080/"
        },
        "id": "ix6-nfVV2xWj",
        "outputId": "8431c03f-b884-4093-f620-5a5db851abbe"
      },
      "execution_count": 13,
      "outputs": [
        {
          "output_type": "stream",
          "name": "stdout",
          "text": [
            " * sqlite:////content/mydb2.db\n",
            "(sqlite3.IntegrityError) UNIQUE constraint failed: Emp.ID\n",
            "[SQL: --Insert in Emp table\n",
            "INSERT INTO Emp (ID, STATE) VALUES\n",
            "(10, 'AB'),\n",
            "(11, 'AC'),\n",
            "(12, 'AD');]\n",
            "(Background on this error at: https://sqlalche.me/e/20/gkpj)\n"
          ]
        }
      ]
    },
    {
      "cell_type": "code",
      "source": [
        "%%sql\n",
        "--Dept Table\n",
        "CREATE TABLE Dept (\n",
        "    ID INT PRIMARY KEY,\n",
        "    BRANCH VARCHAR(20)\n",
        ");\n",
        "\n",
        "--Insert into Dept Table\n",
        "INSERT INTO Dept (ID, BRANCH) VALUES\n",
        "(11, 'Computer'),\n",
        "(12, 'Civil'),\n",
        "(13, 'Mech');\n"
      ],
      "metadata": {
        "colab": {
          "base_uri": "https://localhost:8080/"
        },
        "id": "y4xz5wOF2xcS",
        "outputId": "7142e6bf-e8b8-4252-d9d9-2dfb8c1638a7"
      },
      "execution_count": 14,
      "outputs": [
        {
          "output_type": "stream",
          "name": "stdout",
          "text": [
            " * sqlite:////content/mydb2.db\n",
            "(sqlite3.OperationalError) table Dept already exists\n",
            "[SQL: --Dept Table\n",
            "CREATE TABLE Dept (\n",
            "    ID INT PRIMARY KEY,\n",
            "    BRANCH VARCHAR(20)\n",
            ");]\n",
            "(Background on this error at: https://sqlalche.me/e/20/e3q8)\n"
          ]
        }
      ]
    },
    {
      "cell_type": "code",
      "source": [
        "%%sql\n",
        "SELECT * from Emp;\n",
        "\n"
      ],
      "metadata": {
        "colab": {
          "base_uri": "https://localhost:8080/",
          "height": 139
        },
        "id": "ofEsnkrh3dx6",
        "outputId": "4d096d86-f6d8-4288-a86f-8a0e8b397008"
      },
      "execution_count": 15,
      "outputs": [
        {
          "output_type": "stream",
          "name": "stdout",
          "text": [
            " * sqlite:////content/mydb2.db\n",
            "Done.\n"
          ]
        },
        {
          "output_type": "execute_result",
          "data": {
            "text/plain": [
              "[(10, 'AB'), (11, 'AC'), (12, 'AD')]"
            ],
            "text/html": [
              "<table>\n",
              "    <thead>\n",
              "        <tr>\n",
              "            <th>ID</th>\n",
              "            <th>STATE</th>\n",
              "        </tr>\n",
              "    </thead>\n",
              "    <tbody>\n",
              "        <tr>\n",
              "            <td>10</td>\n",
              "            <td>AB</td>\n",
              "        </tr>\n",
              "        <tr>\n",
              "            <td>11</td>\n",
              "            <td>AC</td>\n",
              "        </tr>\n",
              "        <tr>\n",
              "            <td>12</td>\n",
              "            <td>AD</td>\n",
              "        </tr>\n",
              "    </tbody>\n",
              "</table>"
            ]
          },
          "metadata": {},
          "execution_count": 15
        }
      ]
    },
    {
      "cell_type": "code",
      "source": [
        "%%sql\n",
        "SELECT * from Dept;"
      ],
      "metadata": {
        "colab": {
          "base_uri": "https://localhost:8080/",
          "height": 141
        },
        "id": "yWMZuY4B2xgE",
        "outputId": "97c0d62f-6d5e-4d5c-a3f8-c3ccf1661771"
      },
      "execution_count": null,
      "outputs": [
        {
          "output_type": "stream",
          "name": "stdout",
          "text": [
            " * sqlite:////content/mydb2.db\n",
            "Done.\n"
          ]
        },
        {
          "output_type": "execute_result",
          "data": {
            "text/plain": [
              "[(11, 'Computer'), (12, 'Civil'), (13, 'Mech')]"
            ],
            "text/html": [
              "<table>\n",
              "    <thead>\n",
              "        <tr>\n",
              "            <th>ID</th>\n",
              "            <th>BRANCH</th>\n",
              "        </tr>\n",
              "    </thead>\n",
              "    <tbody>\n",
              "        <tr>\n",
              "            <td>11</td>\n",
              "            <td>Computer</td>\n",
              "        </tr>\n",
              "        <tr>\n",
              "            <td>12</td>\n",
              "            <td>Civil</td>\n",
              "        </tr>\n",
              "        <tr>\n",
              "            <td>13</td>\n",
              "            <td>Mech</td>\n",
              "        </tr>\n",
              "    </tbody>\n",
              "</table>"
            ]
          },
          "metadata": {},
          "execution_count": 24
        }
      ]
    },
    {
      "cell_type": "code",
      "source": [
        "#Inner Join\n",
        "%%sql\n",
        "SELECT *FROM Emp inner join Dept on Emp.ID = Dept.ID;\n"
      ],
      "metadata": {
        "colab": {
          "base_uri": "https://localhost:8080/",
          "height": 120
        },
        "id": "_tOu-AeC2wKp",
        "outputId": "55451077-4384-468a-f574-b6697d94146c"
      },
      "execution_count": null,
      "outputs": [
        {
          "output_type": "stream",
          "name": "stdout",
          "text": [
            " * sqlite:////content/mydb2.db\n",
            "Done.\n"
          ]
        },
        {
          "output_type": "execute_result",
          "data": {
            "text/plain": [
              "[(11, 'AC', 11, 'Computer'), (12, 'AD', 12, 'Civil')]"
            ],
            "text/html": [
              "<table>\n",
              "    <thead>\n",
              "        <tr>\n",
              "            <th>ID</th>\n",
              "            <th>STATE</th>\n",
              "            <th>ID_1</th>\n",
              "            <th>BRANCH</th>\n",
              "        </tr>\n",
              "    </thead>\n",
              "    <tbody>\n",
              "        <tr>\n",
              "            <td>11</td>\n",
              "            <td>AC</td>\n",
              "            <td>11</td>\n",
              "            <td>Computer</td>\n",
              "        </tr>\n",
              "        <tr>\n",
              "            <td>12</td>\n",
              "            <td>AD</td>\n",
              "            <td>12</td>\n",
              "            <td>Civil</td>\n",
              "        </tr>\n",
              "    </tbody>\n",
              "</table>"
            ]
          },
          "metadata": {},
          "execution_count": 25
        }
      ]
    },
    {
      "cell_type": "code",
      "source": [
        "#Left Outer Join\n",
        "%%sql\n",
        "SELECT *FROM Emp left outer join Dept on Emp.ID = Dept.ID;\n"
      ],
      "metadata": {
        "colab": {
          "base_uri": "https://localhost:8080/",
          "height": 141
        },
        "id": "X8DxLksT2xj_",
        "outputId": "c8444284-ed05-4dfd-901c-7343aa4490c4"
      },
      "execution_count": null,
      "outputs": [
        {
          "output_type": "stream",
          "name": "stdout",
          "text": [
            " * sqlite:////content/mydb2.db\n",
            "Done.\n"
          ]
        },
        {
          "output_type": "execute_result",
          "data": {
            "text/plain": [
              "[(10, 'AB', None, None), (11, 'AC', 11, 'Computer'), (12, 'AD', 12, 'Civil')]"
            ],
            "text/html": [
              "<table>\n",
              "    <thead>\n",
              "        <tr>\n",
              "            <th>ID</th>\n",
              "            <th>STATE</th>\n",
              "            <th>ID_1</th>\n",
              "            <th>BRANCH</th>\n",
              "        </tr>\n",
              "    </thead>\n",
              "    <tbody>\n",
              "        <tr>\n",
              "            <td>10</td>\n",
              "            <td>AB</td>\n",
              "            <td>None</td>\n",
              "            <td>None</td>\n",
              "        </tr>\n",
              "        <tr>\n",
              "            <td>11</td>\n",
              "            <td>AC</td>\n",
              "            <td>11</td>\n",
              "            <td>Computer</td>\n",
              "        </tr>\n",
              "        <tr>\n",
              "            <td>12</td>\n",
              "            <td>AD</td>\n",
              "            <td>12</td>\n",
              "            <td>Civil</td>\n",
              "        </tr>\n",
              "    </tbody>\n",
              "</table>"
            ]
          },
          "metadata": {},
          "execution_count": 26
        }
      ]
    },
    {
      "cell_type": "code",
      "source": [
        "#Right Outer Join - This is not supported here and will support in MS Sql Server\n",
        "%%sql\n",
        "SELECT * FROM Emp right outer join Dept on Emp.ID = Dept.ID;\n"
      ],
      "metadata": {
        "colab": {
          "base_uri": "https://localhost:8080/"
        },
        "id": "0mtMqqHL2xm2",
        "outputId": "7b38143c-7067-48d5-9478-74f366644f9a"
      },
      "execution_count": null,
      "outputs": [
        {
          "output_type": "stream",
          "name": "stdout",
          "text": [
            " * sqlite:////content/mydb2.db\n",
            "(sqlite3.OperationalError) RIGHT and FULL OUTER JOINs are not currently supported\n",
            "[SQL: SELECT * FROM Emp right outer join Dept on Emp.ID = Dept.ID;]\n",
            "(Background on this error at: https://sqlalche.me/e/20/e3q8)\n"
          ]
        }
      ]
    },
    {
      "cell_type": "code",
      "source": [
        "#Full Outer Join - This is not supported here and will support in MS Sql Server\n",
        "%%sql\n",
        "SELECT *FROM Emp full outer join Dept on Emp.ID = Dept.ID;"
      ],
      "metadata": {
        "colab": {
          "base_uri": "https://localhost:8080/"
        },
        "id": "iTRWglyf52Zl",
        "outputId": "5bb40f8d-b5d1-413d-d407-e504bdc20662"
      },
      "execution_count": null,
      "outputs": [
        {
          "output_type": "stream",
          "name": "stdout",
          "text": [
            " * sqlite:////content/mydb2.db\n",
            "(sqlite3.OperationalError) RIGHT and FULL OUTER JOINs are not currently supported\n",
            "[SQL: SELECT *FROM Emp full outer join Dept on Emp.ID = Dept.ID;]\n",
            "(Background on this error at: https://sqlalche.me/e/20/e3q8)\n"
          ]
        }
      ]
    },
    {
      "cell_type": "code",
      "source": [
        "#Cross Join\n",
        "%%sql\n",
        "SELECT *FROM Emp cross join Dept;"
      ],
      "metadata": {
        "colab": {
          "base_uri": "https://localhost:8080/",
          "height": 269
        },
        "id": "QFoPC-wm6J4b",
        "outputId": "fe02118f-169e-4cf2-d30b-82319331db0e"
      },
      "execution_count": null,
      "outputs": [
        {
          "output_type": "stream",
          "name": "stdout",
          "text": [
            " * sqlite:////content/mydb2.db\n",
            "Done.\n"
          ]
        },
        {
          "output_type": "execute_result",
          "data": {
            "text/plain": [
              "[(10, 'AB', 11, 'Computer'),\n",
              " (10, 'AB', 12, 'Civil'),\n",
              " (10, 'AB', 13, 'Mech'),\n",
              " (11, 'AC', 11, 'Computer'),\n",
              " (11, 'AC', 12, 'Civil'),\n",
              " (11, 'AC', 13, 'Mech'),\n",
              " (12, 'AD', 11, 'Computer'),\n",
              " (12, 'AD', 12, 'Civil'),\n",
              " (12, 'AD', 13, 'Mech')]"
            ],
            "text/html": [
              "<table>\n",
              "    <thead>\n",
              "        <tr>\n",
              "            <th>ID</th>\n",
              "            <th>STATE</th>\n",
              "            <th>ID_1</th>\n",
              "            <th>BRANCH</th>\n",
              "        </tr>\n",
              "    </thead>\n",
              "    <tbody>\n",
              "        <tr>\n",
              "            <td>10</td>\n",
              "            <td>AB</td>\n",
              "            <td>11</td>\n",
              "            <td>Computer</td>\n",
              "        </tr>\n",
              "        <tr>\n",
              "            <td>10</td>\n",
              "            <td>AB</td>\n",
              "            <td>12</td>\n",
              "            <td>Civil</td>\n",
              "        </tr>\n",
              "        <tr>\n",
              "            <td>10</td>\n",
              "            <td>AB</td>\n",
              "            <td>13</td>\n",
              "            <td>Mech</td>\n",
              "        </tr>\n",
              "        <tr>\n",
              "            <td>11</td>\n",
              "            <td>AC</td>\n",
              "            <td>11</td>\n",
              "            <td>Computer</td>\n",
              "        </tr>\n",
              "        <tr>\n",
              "            <td>11</td>\n",
              "            <td>AC</td>\n",
              "            <td>12</td>\n",
              "            <td>Civil</td>\n",
              "        </tr>\n",
              "        <tr>\n",
              "            <td>11</td>\n",
              "            <td>AC</td>\n",
              "            <td>13</td>\n",
              "            <td>Mech</td>\n",
              "        </tr>\n",
              "        <tr>\n",
              "            <td>12</td>\n",
              "            <td>AD</td>\n",
              "            <td>11</td>\n",
              "            <td>Computer</td>\n",
              "        </tr>\n",
              "        <tr>\n",
              "            <td>12</td>\n",
              "            <td>AD</td>\n",
              "            <td>12</td>\n",
              "            <td>Civil</td>\n",
              "        </tr>\n",
              "        <tr>\n",
              "            <td>12</td>\n",
              "            <td>AD</td>\n",
              "            <td>13</td>\n",
              "            <td>Mech</td>\n",
              "        </tr>\n",
              "    </tbody>\n",
              "</table>"
            ]
          },
          "metadata": {},
          "execution_count": 33
        }
      ]
    },
    {
      "cell_type": "markdown",
      "source": [
        "#Aggregation"
      ],
      "metadata": {
        "id": "B-800cw3hSzN"
      }
    },
    {
      "cell_type": "code",
      "source": [
        "#COUNT\n",
        "%%sql\n",
        "SELECT COUNT(SALARY) FROM employees;"
      ],
      "metadata": {
        "colab": {
          "base_uri": "https://localhost:8080/",
          "height": 96
        },
        "id": "dwZ964SphV5w",
        "outputId": "8da0cff5-4b51-4b34-e2d0-d2683ce7577d"
      },
      "execution_count": 19,
      "outputs": [
        {
          "output_type": "stream",
          "name": "stdout",
          "text": [
            " * sqlite:////content/mydb2.db\n",
            "Done.\n"
          ]
        },
        {
          "output_type": "execute_result",
          "data": {
            "text/plain": [
              "[(5,)]"
            ],
            "text/html": [
              "<table>\n",
              "    <thead>\n",
              "        <tr>\n",
              "            <th>COUNT(SALARY)</th>\n",
              "        </tr>\n",
              "    </thead>\n",
              "    <tbody>\n",
              "        <tr>\n",
              "            <td>5</td>\n",
              "        </tr>\n",
              "    </tbody>\n",
              "</table>"
            ]
          },
          "metadata": {},
          "execution_count": 19
        }
      ]
    },
    {
      "cell_type": "code",
      "source": [
        "#AVERAGE\n",
        "%%sql\n",
        "SELECT AVG(SALARY) FROM employees;"
      ],
      "metadata": {
        "colab": {
          "base_uri": "https://localhost:8080/",
          "height": 96
        },
        "id": "V2g1oScNhWIn",
        "outputId": "9208d88b-f116-4dd8-a358-8315ffb81f5d"
      },
      "execution_count": 21,
      "outputs": [
        {
          "output_type": "stream",
          "name": "stdout",
          "text": [
            " * sqlite:////content/mydb2.db\n",
            "Done.\n"
          ]
        },
        {
          "output_type": "execute_result",
          "data": {
            "text/plain": [
              "[(90200.0,)]"
            ],
            "text/html": [
              "<table>\n",
              "    <thead>\n",
              "        <tr>\n",
              "            <th>AVG(SALARY)</th>\n",
              "        </tr>\n",
              "    </thead>\n",
              "    <tbody>\n",
              "        <tr>\n",
              "            <td>90200.0</td>\n",
              "        </tr>\n",
              "    </tbody>\n",
              "</table>"
            ]
          },
          "metadata": {},
          "execution_count": 21
        }
      ]
    },
    {
      "cell_type": "code",
      "source": [
        "#SUM\n",
        "%%sql\n",
        "SELECT SUM(SALARY) FROM employees;"
      ],
      "metadata": {
        "colab": {
          "base_uri": "https://localhost:8080/",
          "height": 96
        },
        "id": "twzWMVdPhWOy",
        "outputId": "f1ea07ba-ecb0-489b-c941-24da66f0f7f3"
      },
      "execution_count": 22,
      "outputs": [
        {
          "output_type": "stream",
          "name": "stdout",
          "text": [
            " * sqlite:////content/mydb2.db\n",
            "Done.\n"
          ]
        },
        {
          "output_type": "execute_result",
          "data": {
            "text/plain": [
              "[(451000,)]"
            ],
            "text/html": [
              "<table>\n",
              "    <thead>\n",
              "        <tr>\n",
              "            <th>SUM(SALARY)</th>\n",
              "        </tr>\n",
              "    </thead>\n",
              "    <tbody>\n",
              "        <tr>\n",
              "            <td>451000</td>\n",
              "        </tr>\n",
              "    </tbody>\n",
              "</table>"
            ]
          },
          "metadata": {},
          "execution_count": 22
        }
      ]
    },
    {
      "cell_type": "code",
      "source": [
        "#MIN\n",
        "%%sql\n",
        "SELECT MIN(SALARY) FROM employees;"
      ],
      "metadata": {
        "colab": {
          "base_uri": "https://localhost:8080/",
          "height": 96
        },
        "id": "s2G-Nn9PhWSs",
        "outputId": "ddd28826-63da-447a-9a3b-8925ab5514d5"
      },
      "execution_count": 23,
      "outputs": [
        {
          "output_type": "stream",
          "name": "stdout",
          "text": [
            " * sqlite:////content/mydb2.db\n",
            "Done.\n"
          ]
        },
        {
          "output_type": "execute_result",
          "data": {
            "text/plain": [
              "[(78000,)]"
            ],
            "text/html": [
              "<table>\n",
              "    <thead>\n",
              "        <tr>\n",
              "            <th>MIN(SALARY)</th>\n",
              "        </tr>\n",
              "    </thead>\n",
              "    <tbody>\n",
              "        <tr>\n",
              "            <td>78000</td>\n",
              "        </tr>\n",
              "    </tbody>\n",
              "</table>"
            ]
          },
          "metadata": {},
          "execution_count": 23
        }
      ]
    },
    {
      "cell_type": "code",
      "source": [
        "#MAX\n",
        "%%sql\n",
        "SELECT MAX(SALARY) FROM employees;"
      ],
      "metadata": {
        "colab": {
          "base_uri": "https://localhost:8080/",
          "height": 96
        },
        "id": "96uxQWzghWY7",
        "outputId": "ac054b60-1971-4b86-b3ae-79d3803b7df3"
      },
      "execution_count": 24,
      "outputs": [
        {
          "output_type": "stream",
          "name": "stdout",
          "text": [
            " * sqlite:////content/mydb2.db\n",
            "Done.\n"
          ]
        },
        {
          "output_type": "execute_result",
          "data": {
            "text/plain": [
              "[(105000,)]"
            ],
            "text/html": [
              "<table>\n",
              "    <thead>\n",
              "        <tr>\n",
              "            <th>MAX(SALARY)</th>\n",
              "        </tr>\n",
              "    </thead>\n",
              "    <tbody>\n",
              "        <tr>\n",
              "            <td>105000</td>\n",
              "        </tr>\n",
              "    </tbody>\n",
              "</table>"
            ]
          },
          "metadata": {},
          "execution_count": 24
        }
      ]
    },
    {
      "cell_type": "markdown",
      "source": [
        "#Preparing Data for Analytics Tool"
      ],
      "metadata": {
        "id": "5AaTcjrf9INf"
      }
    },
    {
      "cell_type": "code",
      "source": [
        "%%sql\n",
        "--SALES TABLE\n",
        "CREATE TABLE sales (\n",
        "    sale_no INT PRIMARY KEY,\n",
        "    product_id INT,\n",
        "    quantity INT,\n",
        "    price INT,\n",
        "    customer_name VARCHAR(50)\n",
        ");\n"
      ],
      "metadata": {
        "colab": {
          "base_uri": "https://localhost:8080/"
        },
        "id": "y_2dPRAmumyK",
        "outputId": "ceac597a-0ffe-4ad2-906e-bb0fd6640f91"
      },
      "execution_count": null,
      "outputs": [
        {
          "output_type": "stream",
          "name": "stdout",
          "text": [
            " * sqlite:////content/mydb2.db\n",
            "Done.\n"
          ]
        },
        {
          "output_type": "execute_result",
          "data": {
            "text/plain": [
              "[]"
            ]
          },
          "metadata": {},
          "execution_count": 3
        }
      ]
    },
    {
      "cell_type": "code",
      "source": [
        "#INSERT RECORD INTO SALES TABLE\n",
        "%%sql\n",
        "INSERT INTO sales (sale_no, product_id, quantity, price, customer_name) VALUES\n",
        "(5001, 3, 4, 21000, 'John'),\n",
        "(5002, 11, NULL, 17000, 'Anna'),\n",
        "(5003, 94, 10, 105000, 'Tom'),\n",
        "(5004, 86, 8, 27000, 'Nora'),\n",
        "(5005, 88, 18, 8000, 'Tom');\n",
        "\n"
      ],
      "metadata": {
        "colab": {
          "base_uri": "https://localhost:8080/"
        },
        "id": "cXHW67EWw29i",
        "outputId": "04ed613c-bc52-4f75-cf37-58da382b1de8"
      },
      "execution_count": null,
      "outputs": [
        {
          "output_type": "stream",
          "name": "stdout",
          "text": [
            " * sqlite:////content/mydb2.db\n",
            "5 rows affected.\n"
          ]
        },
        {
          "output_type": "execute_result",
          "data": {
            "text/plain": [
              "[]"
            ]
          },
          "metadata": {},
          "execution_count": 4
        }
      ]
    },
    {
      "cell_type": "code",
      "source": [
        "%%sql\n",
        "SELECT * FROM SALES;"
      ],
      "metadata": {
        "colab": {
          "base_uri": "https://localhost:8080/",
          "height": 184
        },
        "id": "PLcyM_u8zd_K",
        "outputId": "8f6fecc4-6fc1-4955-a7e3-bd493cfd7c5b"
      },
      "execution_count": null,
      "outputs": [
        {
          "output_type": "stream",
          "name": "stdout",
          "text": [
            " * sqlite:////content/mydb2.db\n",
            "Done.\n"
          ]
        },
        {
          "output_type": "execute_result",
          "data": {
            "text/plain": [
              "[(5001, 3, 4, 21000, 'John'),\n",
              " (5002, 11, None, 17000, 'Anna'),\n",
              " (5003, 94, 10, 105000, 'Tom'),\n",
              " (5004, 86, 8, 27000, 'Nora'),\n",
              " (5005, 88, 18, 8000, 'Tom')]"
            ],
            "text/html": [
              "<table>\n",
              "    <thead>\n",
              "        <tr>\n",
              "            <th>sale_no</th>\n",
              "            <th>product_id</th>\n",
              "            <th>quantity</th>\n",
              "            <th>price</th>\n",
              "            <th>customer_name</th>\n",
              "        </tr>\n",
              "    </thead>\n",
              "    <tbody>\n",
              "        <tr>\n",
              "            <td>5001</td>\n",
              "            <td>3</td>\n",
              "            <td>4</td>\n",
              "            <td>21000</td>\n",
              "            <td>John</td>\n",
              "        </tr>\n",
              "        <tr>\n",
              "            <td>5002</td>\n",
              "            <td>11</td>\n",
              "            <td>None</td>\n",
              "            <td>17000</td>\n",
              "            <td>Anna</td>\n",
              "        </tr>\n",
              "        <tr>\n",
              "            <td>5003</td>\n",
              "            <td>94</td>\n",
              "            <td>10</td>\n",
              "            <td>105000</td>\n",
              "            <td>Tom</td>\n",
              "        </tr>\n",
              "        <tr>\n",
              "            <td>5004</td>\n",
              "            <td>86</td>\n",
              "            <td>8</td>\n",
              "            <td>27000</td>\n",
              "            <td>Nora</td>\n",
              "        </tr>\n",
              "        <tr>\n",
              "            <td>5005</td>\n",
              "            <td>88</td>\n",
              "            <td>18</td>\n",
              "            <td>8000</td>\n",
              "            <td>Tom</td>\n",
              "        </tr>\n",
              "    </tbody>\n",
              "</table>"
            ]
          },
          "metadata": {},
          "execution_count": 5
        }
      ]
    },
    {
      "cell_type": "code",
      "source": [
        "#CASE\n",
        "%%sql\n",
        "SELECT *,\n",
        "\tCASE\t WHEN quantity >= 10 THEN 'More'\n",
        "\t\t\tWHEN quantity >= 6 THEN 'Avg'\n",
        "\t\t\tELSE 'Less'\n",
        "\tEND AS summary\n",
        "FROM sales;\n"
      ],
      "metadata": {
        "colab": {
          "base_uri": "https://localhost:8080/",
          "height": 184
        },
        "id": "8AOPcjXGxPt5",
        "outputId": "1df9c009-1fe0-4bbc-d934-f471ce6c9c09"
      },
      "execution_count": null,
      "outputs": [
        {
          "output_type": "stream",
          "name": "stdout",
          "text": [
            " * sqlite:////content/mydb2.db\n",
            "Done.\n"
          ]
        },
        {
          "output_type": "execute_result",
          "data": {
            "text/plain": [
              "[(5001, 3, 4, 21000, 'John', 'Less'),\n",
              " (5002, 11, None, 17000, 'Anna', 'Less'),\n",
              " (5003, 94, 10, 105000, 'Tom', 'More'),\n",
              " (5004, 86, 8, 27000, 'Nora', 'Avg'),\n",
              " (5005, 88, 18, 8000, 'Tom', 'More')]"
            ],
            "text/html": [
              "<table>\n",
              "    <thead>\n",
              "        <tr>\n",
              "            <th>sale_no</th>\n",
              "            <th>product_id</th>\n",
              "            <th>quantity</th>\n",
              "            <th>price</th>\n",
              "            <th>customer_name</th>\n",
              "            <th>summary</th>\n",
              "        </tr>\n",
              "    </thead>\n",
              "    <tbody>\n",
              "        <tr>\n",
              "            <td>5001</td>\n",
              "            <td>3</td>\n",
              "            <td>4</td>\n",
              "            <td>21000</td>\n",
              "            <td>John</td>\n",
              "            <td>Less</td>\n",
              "        </tr>\n",
              "        <tr>\n",
              "            <td>5002</td>\n",
              "            <td>11</td>\n",
              "            <td>None</td>\n",
              "            <td>17000</td>\n",
              "            <td>Anna</td>\n",
              "            <td>Less</td>\n",
              "        </tr>\n",
              "        <tr>\n",
              "            <td>5003</td>\n",
              "            <td>94</td>\n",
              "            <td>10</td>\n",
              "            <td>105000</td>\n",
              "            <td>Tom</td>\n",
              "            <td>More</td>\n",
              "        </tr>\n",
              "        <tr>\n",
              "            <td>5004</td>\n",
              "            <td>86</td>\n",
              "            <td>8</td>\n",
              "            <td>27000</td>\n",
              "            <td>Nora</td>\n",
              "            <td>Avg</td>\n",
              "        </tr>\n",
              "        <tr>\n",
              "            <td>5005</td>\n",
              "            <td>88</td>\n",
              "            <td>18</td>\n",
              "            <td>8000</td>\n",
              "            <td>Tom</td>\n",
              "            <td>More</td>\n",
              "        </tr>\n",
              "    </tbody>\n",
              "</table>"
            ]
          },
          "metadata": {},
          "execution_count": 6
        }
      ]
    },
    {
      "cell_type": "code",
      "source": [
        "#COALESCE\n",
        "%%sql\n",
        "SELECT customer_name, product_id,\n",
        "COALESCE(quantity, -1) AS quantity\n",
        "FROM sales;\n",
        "\n",
        "\n"
      ],
      "metadata": {
        "colab": {
          "base_uri": "https://localhost:8080/",
          "height": 184
        },
        "id": "I_1HQx3WycXJ",
        "outputId": "a800046b-3173-427d-a532-6e8405d99927"
      },
      "execution_count": null,
      "outputs": [
        {
          "output_type": "stream",
          "name": "stdout",
          "text": [
            " * sqlite:////content/mydb2.db\n",
            "Done.\n"
          ]
        },
        {
          "output_type": "execute_result",
          "data": {
            "text/plain": [
              "[('John', 3, 4),\n",
              " ('Anna', 11, -1),\n",
              " ('Tom', 94, 10),\n",
              " ('Nora', 86, 8),\n",
              " ('Tom', 88, 18)]"
            ],
            "text/html": [
              "<table>\n",
              "    <thead>\n",
              "        <tr>\n",
              "            <th>customer_name</th>\n",
              "            <th>product_id</th>\n",
              "            <th>quantity</th>\n",
              "        </tr>\n",
              "    </thead>\n",
              "    <tbody>\n",
              "        <tr>\n",
              "            <td>John</td>\n",
              "            <td>3</td>\n",
              "            <td>4</td>\n",
              "        </tr>\n",
              "        <tr>\n",
              "            <td>Anna</td>\n",
              "            <td>11</td>\n",
              "            <td>-1</td>\n",
              "        </tr>\n",
              "        <tr>\n",
              "            <td>Tom</td>\n",
              "            <td>94</td>\n",
              "            <td>10</td>\n",
              "        </tr>\n",
              "        <tr>\n",
              "            <td>Nora</td>\n",
              "            <td>86</td>\n",
              "            <td>8</td>\n",
              "        </tr>\n",
              "        <tr>\n",
              "            <td>Tom</td>\n",
              "            <td>88</td>\n",
              "            <td>18</td>\n",
              "        </tr>\n",
              "    </tbody>\n",
              "</table>"
            ]
          },
          "metadata": {},
          "execution_count": 7
        }
      ]
    },
    {
      "cell_type": "code",
      "source": [
        "#NULLIF\n",
        "%%sql\n",
        "SELECT sale_no, customer_name,\n",
        "NULLIF(product_id, 11) AS product_id\n",
        "FROM sales;\n"
      ],
      "metadata": {
        "id": "K8SPLND2yopG",
        "outputId": "7e58a9d9-52b9-4e3c-fd3e-2f202e5a984a",
        "colab": {
          "base_uri": "https://localhost:8080/",
          "height": 184
        }
      },
      "execution_count": null,
      "outputs": [
        {
          "output_type": "stream",
          "name": "stdout",
          "text": [
            " * sqlite:////content/mydb2.db\n",
            "Done.\n"
          ]
        },
        {
          "output_type": "execute_result",
          "data": {
            "text/plain": [
              "[(5001, 'John', 3),\n",
              " (5002, 'Anna', None),\n",
              " (5003, 'Tom', 94),\n",
              " (5004, 'Nora', 86),\n",
              " (5005, 'Tom', 88)]"
            ],
            "text/html": [
              "<table>\n",
              "    <thead>\n",
              "        <tr>\n",
              "            <th>sale_no</th>\n",
              "            <th>customer_name</th>\n",
              "            <th>product_id</th>\n",
              "        </tr>\n",
              "    </thead>\n",
              "    <tbody>\n",
              "        <tr>\n",
              "            <td>5001</td>\n",
              "            <td>John</td>\n",
              "            <td>3</td>\n",
              "        </tr>\n",
              "        <tr>\n",
              "            <td>5002</td>\n",
              "            <td>Anna</td>\n",
              "            <td>None</td>\n",
              "        </tr>\n",
              "        <tr>\n",
              "            <td>5003</td>\n",
              "            <td>Tom</td>\n",
              "            <td>94</td>\n",
              "        </tr>\n",
              "        <tr>\n",
              "            <td>5004</td>\n",
              "            <td>Nora</td>\n",
              "            <td>86</td>\n",
              "        </tr>\n",
              "        <tr>\n",
              "            <td>5005</td>\n",
              "            <td>Tom</td>\n",
              "            <td>88</td>\n",
              "        </tr>\n",
              "    </tbody>\n",
              "</table>"
            ]
          },
          "metadata": {},
          "execution_count": 8
        }
      ]
    },
    {
      "cell_type": "code",
      "source": [
        "#LEAST\n",
        "%%sql\n",
        "SELECT sale_no, product_id, quantity,\n",
        "MAX(10000, price) as price FROM sales;\n"
      ],
      "metadata": {
        "id": "EJ79z3mMyyGB",
        "outputId": "4485fdc6-1df7-430e-ea70-1404c834da8a",
        "colab": {
          "base_uri": "https://localhost:8080/",
          "height": 184
        }
      },
      "execution_count": null,
      "outputs": [
        {
          "output_type": "stream",
          "name": "stdout",
          "text": [
            " * sqlite:////content/mydb2.db\n",
            "Done.\n"
          ]
        },
        {
          "output_type": "execute_result",
          "data": {
            "text/plain": [
              "[(5001, 3, 4, 21000),\n",
              " (5002, 11, None, 17000),\n",
              " (5003, 94, 10, 105000),\n",
              " (5004, 86, 8, 27000),\n",
              " (5005, 88, 18, 10000)]"
            ],
            "text/html": [
              "<table>\n",
              "    <thead>\n",
              "        <tr>\n",
              "            <th>sale_no</th>\n",
              "            <th>product_id</th>\n",
              "            <th>quantity</th>\n",
              "            <th>price</th>\n",
              "        </tr>\n",
              "    </thead>\n",
              "    <tbody>\n",
              "        <tr>\n",
              "            <td>5001</td>\n",
              "            <td>3</td>\n",
              "            <td>4</td>\n",
              "            <td>21000</td>\n",
              "        </tr>\n",
              "        <tr>\n",
              "            <td>5002</td>\n",
              "            <td>11</td>\n",
              "            <td>None</td>\n",
              "            <td>17000</td>\n",
              "        </tr>\n",
              "        <tr>\n",
              "            <td>5003</td>\n",
              "            <td>94</td>\n",
              "            <td>10</td>\n",
              "            <td>105000</td>\n",
              "        </tr>\n",
              "        <tr>\n",
              "            <td>5004</td>\n",
              "            <td>86</td>\n",
              "            <td>8</td>\n",
              "            <td>27000</td>\n",
              "        </tr>\n",
              "        <tr>\n",
              "            <td>5005</td>\n",
              "            <td>88</td>\n",
              "            <td>18</td>\n",
              "            <td>10000</td>\n",
              "        </tr>\n",
              "    </tbody>\n",
              "</table>"
            ]
          },
          "metadata": {},
          "execution_count": 9
        }
      ]
    },
    {
      "cell_type": "code",
      "source": [
        "#GREATEST\n",
        "%%sql\n",
        "\n",
        "SELECT sale_no, product_id, quantity,\n",
        "MIN(10000, price) as price\n",
        "FROM sales;"
      ],
      "metadata": {
        "colab": {
          "base_uri": "https://localhost:8080/",
          "height": 184
        },
        "id": "bxd2b2mVzByS",
        "outputId": "c61bd165-c75e-48f0-ce1e-26c7ad251445"
      },
      "execution_count": null,
      "outputs": [
        {
          "output_type": "stream",
          "name": "stdout",
          "text": [
            " * sqlite:////content/mydb2.db\n",
            "Done.\n"
          ]
        },
        {
          "output_type": "execute_result",
          "data": {
            "text/plain": [
              "[(5001, 3, 4, 10000),\n",
              " (5002, 11, None, 10000),\n",
              " (5003, 94, 10, 10000),\n",
              " (5004, 86, 8, 10000),\n",
              " (5005, 88, 18, 8000)]"
            ],
            "text/html": [
              "<table>\n",
              "    <thead>\n",
              "        <tr>\n",
              "            <th>sale_no</th>\n",
              "            <th>product_id</th>\n",
              "            <th>quantity</th>\n",
              "            <th>price</th>\n",
              "        </tr>\n",
              "    </thead>\n",
              "    <tbody>\n",
              "        <tr>\n",
              "            <td>5001</td>\n",
              "            <td>3</td>\n",
              "            <td>4</td>\n",
              "            <td>10000</td>\n",
              "        </tr>\n",
              "        <tr>\n",
              "            <td>5002</td>\n",
              "            <td>11</td>\n",
              "            <td>None</td>\n",
              "            <td>10000</td>\n",
              "        </tr>\n",
              "        <tr>\n",
              "            <td>5003</td>\n",
              "            <td>94</td>\n",
              "            <td>10</td>\n",
              "            <td>10000</td>\n",
              "        </tr>\n",
              "        <tr>\n",
              "            <td>5004</td>\n",
              "            <td>86</td>\n",
              "            <td>8</td>\n",
              "            <td>10000</td>\n",
              "        </tr>\n",
              "        <tr>\n",
              "            <td>5005</td>\n",
              "            <td>88</td>\n",
              "            <td>18</td>\n",
              "            <td>8000</td>\n",
              "        </tr>\n",
              "    </tbody>\n",
              "</table>"
            ]
          },
          "metadata": {},
          "execution_count": 10
        }
      ]
    },
    {
      "cell_type": "code",
      "source": [
        "%%sql\n",
        "SELECT DISTINCT customer_name FROM sales;\n"
      ],
      "metadata": {
        "id": "fuAk-vZeMV1q",
        "outputId": "696b7335-e4bf-4f1d-a8e9-87d7e9fb82dd",
        "colab": {
          "base_uri": "https://localhost:8080/",
          "height": 163
        }
      },
      "execution_count": null,
      "outputs": [
        {
          "output_type": "stream",
          "name": "stdout",
          "text": [
            " * sqlite:////content/mydb2.db\n",
            "Done.\n"
          ]
        },
        {
          "output_type": "execute_result",
          "data": {
            "text/plain": [
              "[('John',), ('Anna',), ('Tom',), ('Nora',)]"
            ],
            "text/html": [
              "<table>\n",
              "    <thead>\n",
              "        <tr>\n",
              "            <th>customer_name</th>\n",
              "        </tr>\n",
              "    </thead>\n",
              "    <tbody>\n",
              "        <tr>\n",
              "            <td>John</td>\n",
              "        </tr>\n",
              "        <tr>\n",
              "            <td>Anna</td>\n",
              "        </tr>\n",
              "        <tr>\n",
              "            <td>Tom</td>\n",
              "        </tr>\n",
              "        <tr>\n",
              "            <td>Nora</td>\n",
              "        </tr>\n",
              "    </tbody>\n",
              "</table>"
            ]
          },
          "metadata": {},
          "execution_count": 11
        }
      ]
    }
  ]
}